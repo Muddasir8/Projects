{
  "nbformat": 4,
  "nbformat_minor": 0,
  "metadata": {
    "colab": {
      "provenance": [],
      "name": "01_add_two_number.ipynb",
      "authorship_tag": "ABX9TyNppfFNmyvmoAYORLNvk7+N",
      "include_colab_link": true
    },
    "kernelspec": {
      "name": "python3",
      "display_name": "Python 3"
    },
    "language_info": {
      "name": "python"
    }
  },
  "cells": [
    {
      "cell_type": "markdown",
      "metadata": {
        "id": "view-in-github",
        "colab_type": "text"
      },
      "source": [
        "<a href=\"https://colab.research.google.com/github/Muddasir8/Projects/blob/main/00_intro_python/01_add_two_number.ipynb\" target=\"_parent\"><img src=\"https://colab.research.google.com/assets/colab-badge.svg\" alt=\"Open In Colab\"/></a>"
      ]
    },
    {
      "cell_type": "code",
      "execution_count": null,
      "metadata": {
        "colab": {
          "base_uri": "https://localhost:8080/"
        },
        "id": "hn7KO2G6WTeY",
        "outputId": "5cf1bec3-0082-4608-dc59-f8ccd90c563f"
      },
      "outputs": [
        {
          "metadata": {
            "tags": null
          },
          "name": "stdout",
          "output_type": "stream",
          "text": [
            "this program adds two numbers.\n"
          ]
        }
      ],
      "source": [
        "def main():\n",
        "    \"\"\"\n",
        "    Prompts the user for two strings, converts them to integers,\n",
        "    calculates their sum, and prints the result.\n",
        "    \"\"\"\n",
        "    print(\"this program adds two numbers.\")\n",
        "\n",
        "    # Get the first number from the user\n",
        "    num1 : str = input(\"Enter the first number: \")\n",
        "    num1 = int(num1)\n",
        "\n",
        "    # Get the second number from the user\n",
        "    num2 : str = input(\"Enter the second number: \")\n",
        "    num2 = int(num2)\n",
        "\n",
        "    # Calculate the sum\n",
        "    total_sum : int = num1 + num2\n",
        "\n",
        "    # Print the total sum\n",
        "    print(\"The sum of\", num1, \"and\", num2, \"is:\", total_sum)\n",
        "\n",
        "# Call the function to start the program\n",
        "if __name__ == \"__main__\":\n",
        "    main()"
      ]
    },
    {
      "cell_type": "markdown",
      "source": [
        "How it Works:"
      ],
      "metadata": {
        "id": "Lg4MLL69gKQh"
      }
    },
    {
      "cell_type": "markdown",
      "source": [
        "1.main() **function**: This function encapsulates the entire logic of the program."
      ],
      "metadata": {
        "id": "9EwjTqP6gkch"
      }
    },
    {
      "cell_type": "markdown",
      "source": [
        "2.**String Input**: It uses input() to prompt the user for two numbers as strings."
      ],
      "metadata": {
        "id": "rowWEw_pg1iu"
      }
    },
    {
      "cell_type": "markdown",
      "source": [
        "3.**Conversion to Integers**: It uses int() to convert the input strings (num1_str, num2_str) to integers (num1, num2)."
      ],
      "metadata": {
        "id": "ZElxLA6phR28"
      }
    },
    {
      "cell_type": "markdown",
      "source": [
        "4.**Calculation**: It calculates the sum using the + operator."
      ],
      "metadata": {
        "id": "qV2JKMFVhXuE"
      }
    },
    {
      "cell_type": "markdown",
      "source": [
        "5.**Output**: It prints the total sum using print()."
      ],
      "metadata": {
        "id": "cZu7rqdOhaXA"
      }
    },
    {
      "cell_type": "markdown",
      "source": [
        "6.**Function call**: calculate_sum_from_strings() is called to execute the program."
      ],
      "metadata": {
        "id": "B_w3ubJEiT6P"
      }
    }
  ]
}