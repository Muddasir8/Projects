{
  "nbformat": 4,
  "nbformat_minor": 0,
  "metadata": {
    "colab": {
      "provenance": [],
      "authorship_tag": "ABX9TyPsFClQpdzAWCYwicZqX/QR",
      "include_colab_link": true
    },
    "kernelspec": {
      "name": "python3",
      "display_name": "Python 3"
    },
    "language_info": {
      "name": "python"
    }
  },
  "cells": [
    {
      "cell_type": "markdown",
      "metadata": {
        "id": "view-in-github",
        "colab_type": "text"
      },
      "source": [
        "<a href=\"https://colab.research.google.com/github/Muddasir8/Projects/blob/main/00_intro_python/05_triangle_perimeter.ipynb\" target=\"_parent\"><img src=\"https://colab.research.google.com/assets/colab-badge.svg\" alt=\"Open In Colab\"/></a>"
      ]
    },
    {
      "cell_type": "code",
      "execution_count": null,
      "metadata": {
        "id": "hym022g8ogCy"
      },
      "outputs": [],
      "source": [
        "def main():\n",
        "    # user give the 3 sides of triangle lengths\n",
        "    side1 = float(input(\"Enter the length of the first side: \"))\n",
        "    side2 = float(input(\"Enter the length of the second side: \"))\n",
        "    side3 = float(input(\"Enter the length of the third side: \"))\n",
        "\n",
        "    # printing and the perimeter and sum of sides of the triangle (in str)\n",
        "    print(\"The perimeter of the triangle is: \" + str(side1 + side2 + side3))\n",
        "\n",
        "\n",
        "# This provided line is required at the end of\n",
        "# Python file to call the main() function.\n",
        "if __name__ == '__main__':\n",
        "    main()"
      ]
    },
    {
      "cell_type": "markdown",
      "source": [
        "# Code Explanation\n",
        "\n",
        "---\n",
        "\n",
        "This Python code calculates and prints the perimeter of a triangle based on user input. Let's break it down step-by-step:\n",
        "\n"
      ],
      "metadata": {
        "id": "2C0umNwEpxpe"
      }
    },
    {
      "cell_type": "markdown",
      "source": [
        "\n",
        "# 1. Defining the main Function\n",
        "\n"
      ],
      "metadata": {
        "id": "nUv2GHEIqYve"
      }
    },
    {
      "cell_type": "markdown",
      "source": [
        "\n",
        "\n",
        "*   def main():: This line defines a function called main. Functions are blocks of code that can be reused. The main function is a common starting point in many Python programs.\n",
        "\n",
        "*    user give the 3 sides of triangle lengths: This is a comment that explains the purpose of the following lines of code. Comments are ignored by the Python interpreter and are used for human readability.\n",
        "\n",
        "*   side1 = float(input(\"Enter the length of the first side: \")): This line prompts the user to enter the length of the first side of the triangle.\n",
        "\n",
        "\n",
        "\n"
      ],
      "metadata": {
        "id": "8d_aPtdmqndX"
      }
    },
    {
      "cell_type": "markdown",
      "source": [
        "\n",
        "\n",
        "*   input() reads the user's input as a string.\n",
        "\n",
        "*   float() converts the string input to a floating-point number, allowing for decimal values.\n",
        "*   The result is stored in the variable side1.\n"
      ],
      "metadata": {
        "id": "zccoLTPrq9zk"
      }
    },
    {
      "cell_type": "markdown",
      "source": [
        "\n",
        "\n",
        "*   side2 = float(input(\"Enter the length of the second side: \")): This line does the same as above, but for the second side, storing the value in side2.\n",
        "\n",
        "*   side3 = float(input(\"Enter the length of the third side: \")): Similarly, this line gets the length of the third side and stores it in side3.\n",
        "*   print(\"The perimeter of the triangle is: \" + str(side1 + side2 + side3)): This line calculates and prints the perimeter of the triangle.\n",
        "side1 + side2 + side3 calculates the sum of the three sides.\n",
        "str() converts the sum (a number) into a string so it can be combined with the text \"The perimeter of the triangle is: \".\n",
        "print() displays the final output to the user."
      ],
      "metadata": {
        "id": "B9xyOSqYrW4_"
      }
    },
    {
      "cell_type": "markdown",
      "source": [
        "# 2.  Calling the main Function"
      ],
      "metadata": {
        "id": "drQRwrI9rzML"
      }
    },
    {
      "cell_type": "markdown",
      "source": [
        "\n",
        "\n",
        "*   if __name__ == '__main__':: This line is a conditional statement that checks if the script is being run as the main program. When a Python file is executed, the special variable __name__ is set to '__main__'.\n",
        "*   main(): If the condition is true (meaning the script is the main program), this line calls the main function, executing the code within it. This starts the process of getting input from the user, calculating the perimeter, and printing the result.\n",
        "\n"
      ],
      "metadata": {
        "id": "rCE4tRQpr26r"
      }
    }
  ]
}