{
  "nbformat": 4,
  "nbformat_minor": 0,
  "metadata": {
    "colab": {
      "provenance": [],
      "authorship_tag": "ABX9TyM7tfEiiryBSFkDNUyySJvI",
      "include_colab_link": true
    },
    "kernelspec": {
      "name": "python3",
      "display_name": "Python 3"
    },
    "language_info": {
      "name": "python"
    }
  },
  "cells": [
    {
      "cell_type": "markdown",
      "metadata": {
        "id": "view-in-github",
        "colab_type": "text"
      },
      "source": [
        "<a href=\"https://colab.research.google.com/github/Muddasir8/Projects/blob/main/00_intro_python/06_square_number.ipynb\" target=\"_parent\"><img src=\"https://colab.research.google.com/assets/colab-badge.svg\" alt=\"Open In Colab\"/></a>"
      ]
    },
    {
      "cell_type": "code",
      "execution_count": null,
      "metadata": {
        "id": "GYq-nsDxvLXT"
      },
      "outputs": [],
      "source": [
        "def main():\n",
        "    try:\n",
        "        number_ask = float(input(\"Write a number to see its square: \").strip())\n",
        "        print(f\"The square of {number_ask} is {number_ask**2}\")\n",
        "    except ValueError:\n",
        "        print(\"Invalid input. Please enter a valid number.\")\n",
        "\n",
        "\n",
        "# There is no need to edit code beyond this point\n",
        "\n",
        "if __name__ == '__main__':\n",
        "    main()"
      ]
    },
    {
      "cell_type": "markdown",
      "source": [
        "# Code Explanation"
      ],
      "metadata": {
        "id": "AFE8VnlZwvbN"
      }
    },
    {
      "cell_type": "markdown",
      "source": [
        "1. **Defines a funtion** called main().\n",
        "\n",
        "*   All the program logic is inside this function.\n",
        "*   A function helps organize the code and allows reusability.\n",
        "\n"
      ],
      "metadata": {
        "id": "N4hNoYPBw2cI"
      }
    },
    {
      "cell_type": "markdown",
      "source": [
        "2. **Starts a** `try` **block** to handle possible errors.\n",
        "\n",
        "*   If an error occurs inside the `try` block, Python will jump to the `except` **block** instead of crashing the program.\n",
        "*   This is useful for handling invalid user inputs (e.g., entering text instead of numbers).\n",
        "\n"
      ],
      "metadata": {
        "id": "of6OkzH0xamW"
      }
    },
    {
      "cell_type": "markdown",
      "source": [
        "3. **Asks the user for a number and processes the input:**\n",
        "\n",
        " 1. `input(\"Write a number to see its square: \")`\n",
        "\n",
        "    *   Displays a message to the user and waits for input.\n",
        " 1. `.strip()`\n",
        "\n",
        "    *   Removes extra spaces before and after the input.\n",
        " 1. `float(...)`\n",
        "\n",
        "    *   Converts the input from text to a floating-point number.\n",
        "    *   If the user enters a non-numeric value, a `ValueError` will occur.\n",
        "\n",
        "\n",
        "\n",
        "\n",
        "\n"
      ],
      "metadata": {
        "id": "jIC4G0k2xo_5"
      }
    },
    {
      "cell_type": "markdown",
      "source": [
        "# **Full Program Flow**"
      ],
      "metadata": {
        "id": "mA9zwjtwyvcs"
      }
    },
    {
      "cell_type": "markdown",
      "source": [
        "1. User is prompted to enter a number.\n",
        "\n",
        "2. Input is cleaned (extra spaces removed) and converted to `float`.\n",
        "\n",
        "3. If input is valid, the program:\n",
        " *   Calculates the square.\n",
        " *   Displays the result **rounded to 2 decimal places**.\n",
        "4. **If input is invalid**, an error message appears instead\n",
        "\n"
      ],
      "metadata": {
        "id": "yagIyJAYy4gw"
      }
    },
    {
      "cell_type": "markdown",
      "source": [
        "# **Keys**\n",
        "\n",
        "\n",
        "1.   Function `main()` organizes the program logic.\n",
        "\n",
        "2.   `try` block prevents program crashes by handling errors.\n",
        "\n",
        "3.   `float(input(...))` ensures valid number input.\n",
        "4.   Exponentiation `(**2)` is used to find the square.\n",
        "\n",
        "\n",
        "5.   Formatted output `(.2f)` makes results easier to read.\n",
        "\n",
        "\n",
        "6.   `except ValueError` handles non-numeric input gracefully.\n",
        "\n"
      ],
      "metadata": {
        "id": "FvJkdKkhzn--"
      }
    }
  ]
}