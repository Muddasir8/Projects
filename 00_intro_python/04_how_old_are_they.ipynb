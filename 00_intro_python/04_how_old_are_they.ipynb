{
  "nbformat": 4,
  "nbformat_minor": 0,
  "metadata": {
    "colab": {
      "provenance": [],
      "authorship_tag": "ABX9TyMHMaoZKceQnn0W1OdUW21R",
      "include_colab_link": true
    },
    "kernelspec": {
      "name": "python3",
      "display_name": "Python 3"
    },
    "language_info": {
      "name": "python"
    }
  },
  "cells": [
    {
      "cell_type": "markdown",
      "metadata": {
        "id": "view-in-github",
        "colab_type": "text"
      },
      "source": [
        "<a href=\"https://colab.research.google.com/github/Muddasir8/Projects/blob/main/00_intro_python/04_how_old_are_they.ipynb\" target=\"_parent\"><img src=\"https://colab.research.google.com/assets/colab-badge.svg\" alt=\"Open In Colab\"/></a>"
      ]
    },
    {
      "cell_type": "code",
      "execution_count": null,
      "metadata": {
        "id": "xlxm56pYq_6S"
      },
      "outputs": [],
      "source": [
        "def main():\n",
        "    abdullah : int = 22  # Abdullah age is given as 22 year old\n",
        "    shams : int = 6 + abdullah # shams is 6 year older then abdullah, added 6 to abdullah age to get shams\n",
        "    samandar_khan : int = 20 + shams # samandar_khan is 20 year older then shmas, added 20 to shams age to get samander_khan\n",
        "    kashif : int = samandar_khan + abdullah # kashif is old as samander_khan age plus abdullah age , added them together\n",
        "    adnan : int = samandar_khan # adnan is the same age as samander_khan age equal to adnan age equal to samander_khan\n",
        "\n",
        "    # print out all of the ages!\n",
        "    print(\"Abdullah is \" + str(abdullah))\n",
        "    print(\"Shams is \" + str(shams))\n",
        "    print(\"Samandar Khan is \" + str(samandar_khan))\n",
        "    print(\"Kashif is \" + str(kashif))\n",
        "    print(\"Adnan is \" + str(adnan))\n",
        "\n",
        "\n",
        "# This provided line is required at the end of\n",
        "# Python file to call the main() function.\n",
        "if __name__ == '__main__':\n",
        "    main()"
      ]
    },
    {
      "cell_type": "markdown",
      "source": [
        "# How it Works:"
      ],
      "metadata": {
        "id": "HMFKX37fwrzz"
      }
    },
    {
      "cell_type": "markdown",
      "source": [
        "1. Initialization:\n",
        "\n",
        "*   abdullah : int = 22: This line declares a variable named abdullah and assigns it the value 22, representing Abdullah's age."
      ],
      "metadata": {
        "id": "BwmyzZYfwzG7"
      }
    },
    {
      "cell_type": "markdown",
      "source": [
        "2. Calculations:\n",
        "\n",
        "\n",
        "\n",
        "*   shams : int = 6 + abdullah: Shams's age is calculated by adding 6 to Abdullah's age.\n",
        "\n",
        "*   samandar_khan : int = 20 + shams: Samandar Khan's age is calculated by adding 20 to Shams's age.\n",
        "*   kashif : int = samandar_khan + abdullah: Kashif's age is calculated by adding Samandar Khan's age and Abdullah's age.\n",
        "\n",
        "\n",
        "*   adnan : int = samandar_khan: Adnan's age is set to be the same as Samandar Khan's age.\n",
        "\n"
      ],
      "metadata": {
        "id": "77MqxGnYxDf-"
      }
    },
    {
      "cell_type": "markdown",
      "source": [
        "3. Printing:\n",
        "\n",
        "*   print(\"Abdullah is \" + str(abdullah)): This line prints Abdullah's age to the console. Similar lines follow for the other individuals.\n",
        "\n"
      ],
      "metadata": {
        "id": "XBdJdmfCxhbF"
      }
    },
    {
      "cell_type": "markdown",
      "source": [
        "4. Main Function:\n",
        "\n",
        "*   def main():: This defines a function named main that encapsulates all the calculations and printing logic.\n"
      ],
      "metadata": {
        "id": "pEyDfDObxrbQ"
      }
    },
    {
      "cell_type": "markdown",
      "source": [
        "5. Execution:\n",
        "\n",
        "*   if __name__ == '__main__':: This line ensures that the main function is called only when the script is executed directly (not imported as a module).\n",
        "*   main(): This line calls the main function, initiating the execution of the code.\n",
        "\n"
      ],
      "metadata": {
        "id": "3yb7imT_x0xx"
      }
    }
  ]
}