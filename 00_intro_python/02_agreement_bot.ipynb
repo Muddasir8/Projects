{
  "nbformat": 4,
  "nbformat_minor": 0,
  "metadata": {
    "colab": {
      "provenance": [],
      "authorship_tag": "ABX9TyNrqO0+jIxblCLwNf0fnfYY",
      "include_colab_link": true
    },
    "kernelspec": {
      "name": "python3",
      "display_name": "Python 3"
    },
    "language_info": {
      "name": "python"
    }
  },
  "cells": [
    {
      "cell_type": "markdown",
      "metadata": {
        "id": "view-in-github",
        "colab_type": "text"
      },
      "source": [
        "<a href=\"https://colab.research.google.com/github/Muddasir8/Projects/blob/main/00_intro_python/02_agreement_bot.ipynb\" target=\"_parent\"><img src=\"https://colab.research.google.com/assets/colab-badge.svg\" alt=\"Open In Colab\"/></a>"
      ]
    },
    {
      "cell_type": "code",
      "execution_count": 3,
      "metadata": {
        "colab": {
          "base_uri": "https://localhost:8080/"
        },
        "id": "pW0zK5cmicFw",
        "outputId": "00ec8c5e-ed58-4c8b-dd48-6a868e90fb19"
      },
      "outputs": [
        {
          "output_type": "stream",
          "name": "stdout",
          "text": [
            "What is your favorite animal? cow\n",
            "My favorite animal is also cow!\n"
          ]
        }
      ],
      "source": [
        "def main():\n",
        "    #ask the user for their favorite animal\n",
        "    animal_name = input(\"What is your favorite animal? \").strip()\n",
        "\n",
        "    # respond with the users favorite animal\n",
        "    print(f\"My favorite animal is also {animal_name}!\")\n",
        "\n",
        "\n",
        "# This provided line is required at the end of\n",
        "# Python file to call the main() function.\n",
        "if __name__ == '__main__':\n",
        "    main()"
      ]
    },
    {
      "cell_type": "markdown",
      "source": [
        "# Code Explanation"
      ],
      "metadata": {
        "id": "yiejcqtxkU8n"
      }
    },
    {
      "cell_type": "markdown",
      "source": [
        "Defining the *main* Function"
      ],
      "metadata": {
        "id": "FBjy3b3qkf5Q"
      }
    },
    {
      "cell_type": "markdown",
      "source": [
        "1. def main():: This line defines a function called main. Functions are blocks of code that perform a specific task. The main function is a common starting point for many Python programs."
      ],
      "metadata": {
        "id": "8LwrPXOQkoiQ"
      }
    },
    {
      "cell_type": "markdown",
      "source": [
        "2. animal_name = input(\"What is your favorite animal? \").strip():\n",
        "\n",
        "\n",
        "*   input(\"What is your favorite animal? \"): This part displays the question \"What is your favorite animal?\" to the user and waits for them to type in their answer and press Enter.\n",
        "*   .strip(): This is a method applied to the user's input to remove any extra spaces from the beginning or end of their answer.\n",
        "*   animal_name =: The answer provided by the user (after being stripped of extra spaces) is stored in a variable called animal_name.\n"
      ],
      "metadata": {
        "id": "RM3JWC2LkwRW"
      }
    },
    {
      "cell_type": "markdown",
      "source": [
        "3. print(f\"Your favorite animal is the {animal_name}!\"):\n",
        "\n",
        "*   print(...): This line displays text on the screen.\n",
        "*   f\"Your favorite animal is the {animal_name}!\": This is an f-string, a way to embed variables directly into strings. It creates the output message by inserting the value of the animal_name variable into the sentence.\n",
        "\n"
      ],
      "metadata": {
        "id": "Ib3ZiSd6lJUQ"
      }
    },
    {
      "cell_type": "markdown",
      "source": [
        "Calling the main Function"
      ],
      "metadata": {
        "id": "r4cF21E_lXPA"
      }
    },
    {
      "cell_type": "markdown",
      "source": [
        "1. if __name__ == '__main__':: This line is a conditional statement. It checks if the code is being run as the main program (as opposed to being imported as a module into another program)."
      ],
      "metadata": {
        "id": "p10n7gFhleLx"
      }
    },
    {
      "cell_type": "markdown",
      "source": [
        "2. main(): If the condition is true (the code is the main program), then this line calls the main function, executing the code we explained earlier. This actually starts the interactive part where the user is asked for their favorite animal."
      ],
      "metadata": {
        "id": "YrbiP8Balh9-"
      }
    }
  ]
}