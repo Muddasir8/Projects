{
  "nbformat": 4,
  "nbformat_minor": 0,
  "metadata": {
    "colab": {
      "provenance": [],
      "authorship_tag": "ABX9TyOQu96eJdxenudJs0ubrUtS",
      "include_colab_link": true
    },
    "kernelspec": {
      "name": "python3",
      "display_name": "Python 3"
    },
    "language_info": {
      "name": "python"
    }
  },
  "cells": [
    {
      "cell_type": "markdown",
      "metadata": {
        "id": "view-in-github",
        "colab_type": "text"
      },
      "source": [
        "<a href=\"https://colab.research.google.com/github/Muddasir8/Projects/blob/main/00_intro_python/03_fahrenheit_to_celsius.ipynb\" target=\"_parent\"><img src=\"https://colab.research.google.com/assets/colab-badge.svg\" alt=\"Open In Colab\"/></a>"
      ]
    },
    {
      "cell_type": "code",
      "execution_count": null,
      "metadata": {
        "id": "Zh3N39iSmafq"
      },
      "outputs": [],
      "source": [
        "def main():\n",
        "    # get the temperature in Fahrentheit from the user.\n",
        "    fahrenheit = float(input(\"Enter temperature in Fahrenheit:\"))\n",
        "\n",
        "    #calculate the temperature in celsius.\n",
        "    celsius = (fahrenheit - 32) * 5.0 / 9.0\n",
        "\n",
        "    #display the temperature in celsius.\n",
        "    print(f\"Temperature: {fahrenheit}F = {celsius}C\")\n",
        "\n",
        "\n",
        "# This provided line is required at the end of\n",
        "# Python file to call the main() function.\n",
        "if __name__ == '__main__':\n",
        "    main()"
      ]
    },
    {
      "cell_type": "markdown",
      "source": [
        "# How it works:"
      ],
      "metadata": {
        "id": "2muf5cZjogIx"
      }
    },
    {
      "cell_type": "markdown",
      "source": [
        "1. **Get input**: The program first prompts the user to enter the temperature in Fahrenheit using the input() function. The input is then converted to a floating-point number using float() to handle decimal values.\n",
        "\n",
        "1. **Calculate Celsius**: It then applies the formula to convert the Fahrenheit temperature to Celsius.\n",
        "2. **Print output**: Finally, the program prints the original Fahrenheit temperature and the calculated Celsius temperature using an f-string for formatted output.\n",
        "\n"
      ],
      "metadata": {
        "id": "2eodqAPLooI6"
      }
    }
  ]
}