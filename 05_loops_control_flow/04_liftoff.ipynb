{
  "nbformat": 4,
  "nbformat_minor": 0,
  "metadata": {
    "colab": {
      "provenance": [],
      "authorship_tag": "ABX9TyPqPg1WBOMqqPzqh6ZUvSB2",
      "include_colab_link": true
    },
    "kernelspec": {
      "name": "python3",
      "display_name": "Python 3"
    },
    "language_info": {
      "name": "python"
    }
  },
  "cells": [
    {
      "cell_type": "markdown",
      "metadata": {
        "id": "view-in-github",
        "colab_type": "text"
      },
      "source": [
        "<a href=\"https://colab.research.google.com/github/Muddasir8/Projects/blob/main/05_loops_control_flow/04_liftoff.ipynb\" target=\"_parent\"><img src=\"https://colab.research.google.com/assets/colab-badge.svg\" alt=\"Open In Colab\"/></a>"
      ]
    },
    {
      "cell_type": "code",
      "execution_count": null,
      "metadata": {
        "id": "mmB_EqnRn9Aj"
      },
      "outputs": [],
      "source": [
        "def main():\n",
        "    for i in range(10, 0, -1):\n",
        "      print(i, end=\" \")\n",
        "    print(\"Liftoff!\")\n",
        "\n",
        "\n",
        "# This provided line is required at the end of\n",
        "# Python file to call the main() function.\n",
        "if __name__ == '__main__':\n",
        "    main()"
      ]
    },
    {
      "cell_type": "markdown",
      "source": [
        "1. The code defines a function called `main` that prints a countdown from 10 to 1 and then \"Liftoff!\". When the script is run, the `if __name__ == '__main__':` block calls the `main` function, initiating the countdown.\n",
        "\n",
        "2. Essentially, running the code will display a countdown from 10 to 1, ending with \"Liftoff!\"."
      ],
      "metadata": {
        "id": "Ks6m4F2Lo3qP"
      }
    }
  ]
}