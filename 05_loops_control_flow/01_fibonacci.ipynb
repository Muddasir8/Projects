{
  "nbformat": 4,
  "nbformat_minor": 0,
  "metadata": {
    "colab": {
      "provenance": [],
      "authorship_tag": "ABX9TyNXcJlI98cUepzehgY1dBSz",
      "include_colab_link": true
    },
    "kernelspec": {
      "name": "python3",
      "display_name": "Python 3"
    },
    "language_info": {
      "name": "python"
    }
  },
  "cells": [
    {
      "cell_type": "markdown",
      "metadata": {
        "id": "view-in-github",
        "colab_type": "text"
      },
      "source": [
        "<a href=\"https://colab.research.google.com/github/Muddasir8/Projects/blob/main/05_loops_control_flow/01_fibonacci.ipynb\" target=\"_parent\"><img src=\"https://colab.research.google.com/assets/colab-badge.svg\" alt=\"Open In Colab\"/></a>"
      ]
    },
    {
      "cell_type": "code",
      "execution_count": null,
      "metadata": {
        "id": "wSGrMnQygZlG"
      },
      "outputs": [],
      "source": [
        "MAX_TERM: int = 10000\n",
        "\n",
        "def main():\n",
        "  current_term = 0\n",
        "  next_term = 1\n",
        "  while current_term < MAX_TERM:\n",
        "    print(current_term)\n",
        "    term_after = current_term + next_term\n",
        "    current_term = next_term\n",
        "    next_term = term_after\n",
        "\n",
        "\n",
        "\n",
        "# This provided line is required at the end of\n",
        "# Python file to call the main() function.\n",
        "if __name__ == '__main__':\n",
        "    main()"
      ]
    },
    {
      "cell_type": "markdown",
      "source": [
        "1. This Python code generates and prints the ibonacci sequence (a series of numbers where each number is the sum of the two preceding ones) up to a maximum value of 10000.\n",
        "\n",
        "2. It does this using a `while` loop inside a function called `main`. The loop calculates each term of the sequence and prints it until the term exceeds 10000.\n",
        "\n",
        "3. The code is designed to run the `main` function when executed as the main program."
      ],
      "metadata": {
        "id": "8UeU3CPehkkg"
      }
    }
  ]
}