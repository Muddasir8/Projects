{
  "nbformat": 4,
  "nbformat_minor": 0,
  "metadata": {
    "colab": {
      "provenance": [],
      "authorship_tag": "ABX9TyM/3pwX/QB05YERUqt1gTal",
      "include_colab_link": true
    },
    "kernelspec": {
      "name": "python3",
      "display_name": "Python 3"
    },
    "language_info": {
      "name": "python"
    }
  },
  "cells": [
    {
      "cell_type": "markdown",
      "metadata": {
        "id": "view-in-github",
        "colab_type": "text"
      },
      "source": [
        "<a href=\"https://colab.research.google.com/github/Muddasir8/Projects/blob/main/05_loops_control_flow/00_guess_my_number.ipynb\" target=\"_parent\"><img src=\"https://colab.research.google.com/assets/colab-badge.svg\" alt=\"Open In Colab\"/></a>"
      ]
    },
    {
      "cell_type": "code",
      "execution_count": null,
      "metadata": {
        "id": "BvZJRNjcYNOF"
      },
      "outputs": [],
      "source": [
        "import random\n",
        "\n",
        "def main():\n",
        "  secret_num = random.randint(1, 99)\n",
        "\n",
        "  print(\"I am thinking of a number between 1 and 99.\")\n",
        "\n",
        "  guess = int(input(\"Take a guess: \"))\n",
        "\n",
        "  while guess != secret_num:\n",
        "    if guess < secret_num:\n",
        "      print(\"Your guess is too low.\")\n",
        "    else:\n",
        "      print(\"Your guess is too high.\")\n",
        "    guess = int(input(\"Take a guess: \"))\n",
        "\n",
        "  print(\"Congrats! The number was: \" + str(secret_num))\n",
        "\n",
        "\n",
        "\n",
        "\n",
        "# This provided line is required at the end of\n",
        "# Python file to call the main() function.\n",
        "if __name__ == '__main__':\n",
        "    main()"
      ]
    },
    {
      "cell_type": "markdown",
      "source": [
        "# Importing the `random` Module\n",
        "\n",
        "        import random\n",
        "\n",
        "* This line imports the `random` module, which is a built-in Python library.\n",
        "* This module provides functions for generating random numbers, which is crucial for this number guessing game.\n",
        "\n",
        "# Defining the `main` Function\n",
        "\n",
        "        def main():\n",
        "          # Code inside the main function goes here\n",
        "\n",
        "* This line defines a function called `main`.\n",
        "* Functions are blocks of code that perform a specific task.\n",
        "* The `main` function is a common convention in Python to hold the primary logic of a program.\n",
        "\n",
        "# Generating the Secret Number\n",
        "\n",
        "      secret_num = random.randint(1, 99)\n",
        "\n",
        "* Inside the `main` function, this line generates a random integer between 1 and 99 (inclusive) using `random.randint(1, 99)`.\n",
        "* This random number is stored in the variable `secret_num`, which represents the secret number the user needs to guess.\n",
        "\n",
        "# Welcoming the Player\n",
        "\n",
        "      print(\"I am thinking of a number between 1 and 99.\")\n",
        "\n",
        "* This line prints a message to the console, informing the user that the game has started and the secret number is within the range of 1 to 99.\n",
        "\n",
        "# Getting the User's Guess\n",
        "\n",
        "      guess = int(input(\"Take a guess: \"))\n",
        "\n",
        "* This line prompts the user to enter their guess using `input(\"Take a guess: \")`.\n",
        "* The `input()` function reads the user's input as a string.\n",
        "* `int()` converts the user's input from a string to an integer and stores it in the variable `guess`.\n",
        "\n",
        "# The Game Loop\n",
        "\n",
        "        while guess != secret_num:\n",
        "          if guess < secret_num:\n",
        "            print(\"Your guess is too low.\")\n",
        "          else:\n",
        "            print(\"Your guess is too high.\")\n",
        "          guess = int(input(\"Take a guess: \"))\n",
        "\n",
        "* This `while` loop is the core of the game logic. It continues to execute as long as the user's `guess` is not equal to the `secret_num`.\n",
        "  * Inside the loop, an `if` statement checks if the `guess` is lower than the `secret_num`. If it is, it prints \"Your guess is too low.\"\n",
        "  * If the `guess` is not lower (meaning it's higher), the `else` block executes and prints \"Your guess is too high.\"\n",
        "  * After providing feedback, the loop prompts the user for another guess using `input(\"Take a guess: \")` and updates the `guess` variable.\n",
        "\n",
        "# Calling the `main` Function\n",
        "\n",
        "      if __name__ == '__main__':\n",
        "        main()\n",
        "\n",
        "* This block of code is a standard way to run the `main` function when the Python script is executed.\n",
        "* The `if __name__ == '__main__':` condition ensures that the `main()` function is called only when the script is run directly, not when it's imported as a module into another script."
      ],
      "metadata": {
        "id": "PF6SQthHcsTC"
      }
    }
  ]
}