{
  "nbformat": 4,
  "nbformat_minor": 0,
  "metadata": {
    "colab": {
      "provenance": [],
      "authorship_tag": "ABX9TyMWTIgngHn4HrEmNOLIqZAc",
      "include_colab_link": true
    },
    "kernelspec": {
      "name": "python3",
      "display_name": "Python 3"
    },
    "language_info": {
      "name": "python"
    }
  },
  "cells": [
    {
      "cell_type": "markdown",
      "metadata": {
        "id": "view-in-github",
        "colab_type": "text"
      },
      "source": [
        "<a href=\"https://colab.research.google.com/github/Muddasir8/Projects/blob/main/02_lists/03_erase_canvas.ipynb\" target=\"_parent\"><img src=\"https://colab.research.google.com/assets/colab-badge.svg\" alt=\"Open In Colab\"/></a>"
      ]
    },
    {
      "cell_type": "code",
      "execution_count": null,
      "metadata": {
        "colab": {
          "base_uri": "https://localhost:8080/"
        },
        "id": "zsfKzgcYD039",
        "outputId": "24b1bf3d-86ec-4336-b311-83ffac0040cb"
      },
      "outputs": [
        {
          "output_type": "stream",
          "name": "stdout",
          "text": [
            "\n",
            "y\n",
            "bybuyby\n",
            "55555\n",
            "\n",
            "\n",
            "upgreaded\n",
            "asas\n",
            "\n",
            "Requirement already satisfied: graphics.py in /usr/local/lib/python3.11/dist-packages (5.0.1.post1)\n",
            "Reading package lists... Done\n",
            "Building dependency tree... Done\n",
            "Reading state information... Done\n",
            "xvfb is already the newest version (2:21.1.4-2ubuntu1.7~22.04.13).\n",
            "0 upgraded, 0 newly installed, 0 to remove and 29 not upgraded.\n"
          ]
        }
      ],
      "source": [
        "!pip install graphics.py\n",
        "!apt-get install -y xvfb\n",
        "!bash -c 'Xvfb :99 -screen 0 1024x768x24 & export DISPLAY=:99'\n",
        "import os\n",
        "os.environ['DISPLAY'] = ':99'\n",
        "\n",
        "from graphics import Canvas\n",
        "import time\n",
        "\n",
        "CANVAS_WIDTH : int = 400\n",
        "CANVAS_HEIGHT : int = 400\n",
        "\n",
        "CELL_SIZE : int = 20\n",
        "ERASER_SIZE : int = 20\n",
        "\n",
        "def eraser_objects(canvas, eraser):\n",
        "  \"\"\" Eraser objects in contact with the eraser \"\"\"\n",
        "\n",
        "  mouse_x = canvas.get_mouse_x()\n",
        "  mouse_y = canvas.get_mouse_y()\n",
        "\n",
        "  left_x = mouse_x\n",
        "  top_y = mouse_y\n",
        "  right_x = left_x + ERASER_SIZE\n",
        "  bottom_y = top_y + ERASER_SIZE\n",
        "\n",
        "  overlaping_objects = canvas.find_overlaping(left_x, top_y, right_x, bottom_y)\n",
        "\n",
        "\n",
        "\n",
        "  for overlaping_objects in overlaping_objects:\n",
        "    if overlaping_objects != eraser:\n",
        "      canvas.set_coloer(overlaping_objects, \"white\")\n",
        "\n",
        "\n",
        "def main():\n",
        "    canvas = Canvas(CANVAS_WIDTH, CANVAS_HEIGHT)\n",
        "\n",
        "    num_rows = CANVAS_HEIGHT // CELL_SIZE\n",
        "    num_cols = CANVAS_WIDTH // CELL_SIZE\n",
        "\n",
        "\n",
        "\n",
        "    for row in range(num_rows):\n",
        "        for col in range(num_cols):\n",
        "            left_x = col * CELL_SIZE\n",
        "            top_y = row * CELL_SIZE\n",
        "            right_x = left_x + CELL_SIZE\n",
        "\n",
        "\n",
        "            cell = canvas.create_rectangle(left_x, top_y, right_x, top_y + CELL_SIZE, fill=\"blue\")\n",
        "\n",
        "\n",
        "    canvas.wait_for_click()\n",
        "\n",
        "    last_click_x, last_click_y = canvas.get_last_click()\n",
        "\n",
        "\n",
        "    eraser = canvas.create_rectangle(\n",
        "        last_click_x - ERASER_SIZE // 2,\n",
        "        last_click_y - ERASER_SIZE // 2,\n",
        "        last_click_x + ERASER_SIZE // 2,\n",
        "        last_click_y + ERASER_SIZE // 2,\n",
        "        'pink'\n",
        "    )\n",
        "\n",
        "\n",
        "    while True:\n",
        "        canvas.wait_for_click()\n",
        "        mouse_x = canvas.get_mouse_x()\n",
        "        mouse_y = canvas.get_mouse_y()\n",
        "        canvas.moveto(eraser, mouse_x, mouse_y)\n",
        "\n",
        "\n",
        "        eraser_objects(canvas, eraser)\n",
        "\n",
        "        time.sleep(0.05)\n",
        "\n",
        "\n",
        "# This provided line is required at the end of\n",
        "# Python file to call the main() function.\n",
        "if __name__ == '__main__':\n",
        "    main()"
      ]
    }
  ]
}