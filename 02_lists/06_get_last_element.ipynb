{
  "nbformat": 4,
  "nbformat_minor": 0,
  "metadata": {
    "colab": {
      "provenance": [],
      "authorship_tag": "ABX9TyMgM4trLQphheWSaAI4yJM9",
      "include_colab_link": true
    },
    "kernelspec": {
      "name": "python3",
      "display_name": "Python 3"
    },
    "language_info": {
      "name": "python"
    }
  },
  "cells": [
    {
      "cell_type": "markdown",
      "metadata": {
        "id": "view-in-github",
        "colab_type": "text"
      },
      "source": [
        "<a href=\"https://colab.research.google.com/github/Muddasir8/Projects/blob/main/02_lists/06_get_last_element.ipynb\" target=\"_parent\"><img src=\"https://colab.research.google.com/assets/colab-badge.svg\" alt=\"Open In Colab\"/></a>"
      ]
    },
    {
      "cell_type": "code",
      "execution_count": null,
      "metadata": {
        "id": "i5Qnk6oHXP-V"
      },
      "outputs": [],
      "source": [
        "def get_last_ele(lst):\n",
        "  \"\"\"Prints the last element of a given non-empty list.\"\"\"\n",
        "\n",
        "  print(lst[-1])\n",
        "\n",
        "def get_lst():\n",
        "  lst = []\n",
        "  elem : str = input(\"Please enter an element of the list or press enter to stop. \")\n",
        "\n",
        "  while elem != \"\":\n",
        "    lst.append(elem)\n",
        "    elem = input(\"Please enter an element of the list or press enter to stop. \")\n",
        "  return lst\n",
        "\n",
        "def main():\n",
        "  lst = get_lst()\n",
        "  get_last_ele(lst)\n",
        "\n",
        "\n",
        "\n",
        "# This provided line is required at the end of\n",
        "# Python file to call the main() function.\n",
        "if __name__ == '__main__':\n",
        "    main()"
      ]
    },
    {
      "cell_type": "markdown",
      "source": [
        "# Overall Structure\n",
        "\n",
        "The code is organized into three main functions: `get_last_ele`, `get_lst`, and `main`. Functions are blocks of code that perform specific tasks.\n",
        "\n",
        "Finally, there's a special block that starts with `if __name__ == '__main__':`. This block ensures that the `main` function is executed only when the script is run directly (not imported as a module).\n",
        "\n",
        "# Function: `get_last_ele`\n",
        "\n",
        "     def get_last_ele(lst):\n",
        "      \"\"\"Prints the last element of a given non-empty list.\"\"\"\n",
        "\n",
        "      print(lst[-1])\n",
        "\n",
        "* `def get_last_ele(lst):`: This line defines a function named `get_last_ele` that takes one argument: `lst`, which is expected to be a list.\n",
        "* `\"\"\"Prints the last element of a given non-empty list.\"\"\"`: This is a docstring, a brief description of what the function does.\n",
        "* `print(lst[-1])`: This is the core of the function. It uses negative indexing (`-1`) to access and print the last element of the `lst`.\n",
        "\n",
        "# Function: `get_lst`\n",
        "\n",
        "     def get_lst():\n",
        "      lst = []\n",
        "      elem : str = input(\"Please enter an element of the list or press enter to stop. \")\n",
        "  \n",
        "      while elem != \"\":\n",
        "        lst.append(elem)\n",
        "        elem = input(\"Please enter an element of the list or press enter to stop. \")\n",
        "      return lst\n",
        "\n",
        "* `def get_lst():`: This line defines a function named `get_lst` that takes no arguments.\n",
        "* `lst = []`: This initializes an empty list named `lst`.\n",
        "* `elem : str = input(\"Please enter an element of the list or press enter to stop. \")`: This prompts the user to enter an element and stores it in the `elem` variable, specifying that it should be a string (`str`).\n",
        "* `while elem != \"\":`: This loop continues as long as the user enters something (i.e., `elem` is not an empty string).\n",
        "* `lst.append(elem)`: Inside the loop, the entered element is added to the `lst`.\n",
        "* `elem = input(\"Please enter an element of the list or press enter to stop. \")`: The user is prompted again for the next element.\n",
        "* `return lst`: After the loop ends (user presses enter without typing anything), the function returns the built list `lst`.\n",
        "\n",
        "# Function: `main`\n",
        "\n",
        "     def main():\n",
        "      lst = get_lst()\n",
        "      get_last_ele(lst)\n",
        "\n",
        "* `def main():`: This defines the `main` function, which acts as the entry point of the program.\n",
        "* `lst = get_lst():` This line calls the `get_lst` function to get a list from the user input and stores it in the `lst` variable.\n",
        "* `get_last_ele(lst):` This line then calls the `get_last_ele` function, passing the `lst` to it, which prints the last element of the list.\n",
        "\n",
        "# Execution Control\n",
        "\n",
        "     if __name__ == '__main__':\n",
        "         main()\n",
        "\n",
        "* This block ensures that the `main` function is called only when the script is run directly. This is a common practice in Python to allow code to be both executed and imported as a module without immediately running the main logic."
      ],
      "metadata": {
        "id": "3dGtRSlz5pni"
      }
    }
  ]
}