{
  "nbformat": 4,
  "nbformat_minor": 0,
  "metadata": {
    "colab": {
      "provenance": [],
      "authorship_tag": "ABX9TyMIIs/OOjtOW8xncK43FLxt",
      "include_colab_link": true
    },
    "kernelspec": {
      "name": "python3",
      "display_name": "Python 3"
    },
    "language_info": {
      "name": "python"
    }
  },
  "cells": [
    {
      "cell_type": "markdown",
      "metadata": {
        "id": "view-in-github",
        "colab_type": "text"
      },
      "source": [
        "<a href=\"https://colab.research.google.com/github/Muddasir8/Projects/blob/main/02_lists/04_flowing_with_data_structures.ipynb\" target=\"_parent\"><img src=\"https://colab.research.google.com/assets/colab-badge.svg\" alt=\"Open In Colab\"/></a>"
      ]
    },
    {
      "cell_type": "code",
      "execution_count": 1,
      "metadata": {
        "colab": {
          "base_uri": "https://localhost:8080/"
        },
        "id": "fDzYfiH8NHqe",
        "outputId": "e4405ba0-7d6b-4e73-ff29-656f40833790"
      },
      "outputs": [
        {
          "output_type": "stream",
          "name": "stdout",
          "text": [
            "Enter a message to copy three times: 55\n",
            "['55', '55', '55']\n"
          ]
        }
      ],
      "source": [
        "def add_three_copies(mylist, data):\n",
        "  for i in range(3):\n",
        "    mylist.append(data)\n",
        "\n",
        "def main():\n",
        "    message = input(\"Enter a message to copy three times: \")\n",
        "    mylist = []\n",
        "    add_three_copies(mylist, message)\n",
        "    print(mylist)\n",
        "\n",
        "\n",
        "\n",
        "# This provided line is required at the end of\n",
        "# Python file to call the main() function.\n",
        "if __name__ == '__main__':\n",
        "    main()"
      ]
    },
    {
      "cell_type": "markdown",
      "source": [
        "# **Functions**\n",
        "\n",
        "This code defines two **functions**: `add_three_copies` and `main`. Functions are blocks of reusable code that perform specific tasks.\n",
        "\n",
        "**`add_three_copies` Function**\n",
        "\n",
        "    def add_three_copies(mylist, data):\n",
        "     for i in range(3):\n",
        "      mylist.append(data)\n",
        "\n",
        "\n",
        " 1. `def add_three_copies(mylist, data):`: This line defines a function named `add_three_copies`. It takes two arguments:\n",
        "  * `mylist`: This is expected to be a list.\n",
        " * `data`: This represents the value to be added to the list.\n",
        " 2. `for i in range(3):`: This line starts a loop that will run three times (0, 1, 2).\n",
        " 3. `mylist.append(data)`: Inside the loop, this line adds the `data` to the end of the `mylist` using the `append` method. This happens three times due to the loop.\n",
        "\n",
        "In essence, this function takes a list and a value, and adds three copies of that value to the list.\n",
        "\n",
        "**# `main` Function**\n",
        "\n",
        "     def main():\n",
        "        message = input(\"Enter a message to copy three times: \")\n",
        "        mylist = []\n",
        "        add_three_copies(mylist, message)\n",
        "        print(mylist)\n",
        "\n",
        "1. `def main():`: This line defines a function named `main`. It's a common practice to put the main logic of a program inside a function called `main`.\n",
        "2. `message = input(\"Enter a message to copy three times: \")`: This line prompts the user to enter a message and stores it in the `message` variable.\n",
        "3. `mylist = []:` This line creates an empty list called `mylist`.\n",
        "4. `add_three_copies(mylist, message):` This line calls the `add_three_copies` function we defined earlier, passing `mylist` and `message` as arguments. This will add three copies of the user's message to the `mylist`.\n",
        "5. `print(mylist):` This line prints the contents of `mylist` to the console, which now includes three copies of the user's message.\n",
        "\n",
        "# Program Execution\n",
        "\n",
        "     if __name__ == '__main__':\n",
        "         main()\n",
        "\n",
        "This part of the code controls the execution flow of the program:\n",
        "\n",
        "1. `if __name__ == '__main__':`: This is a conditional statement. It checks if the script is being run as the main program (as opposed to being imported as a module into another program).\n",
        "2. `main()`: If the condition is true (the script is the main program), this line calls the `main` function, starting the execution of the code within the `main` function."
      ],
      "metadata": {
        "id": "uVA8NvCtOboD"
      }
    }
  ]
}