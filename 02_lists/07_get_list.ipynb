{
  "nbformat": 4,
  "nbformat_minor": 0,
  "metadata": {
    "colab": {
      "provenance": [],
      "authorship_tag": "ABX9TyOORISao+FgJ8lffDTVE1Ch",
      "include_colab_link": true
    },
    "kernelspec": {
      "name": "python3",
      "display_name": "Python 3"
    },
    "language_info": {
      "name": "python"
    }
  },
  "cells": [
    {
      "cell_type": "markdown",
      "metadata": {
        "id": "view-in-github",
        "colab_type": "text"
      },
      "source": [
        "<a href=\"https://colab.research.google.com/github/Muddasir8/Projects/blob/main/02_lists/07_get_list.ipynb\" target=\"_parent\"><img src=\"https://colab.research.google.com/assets/colab-badge.svg\" alt=\"Open In Colab\"/></a>"
      ]
    },
    {
      "cell_type": "code",
      "execution_count": null,
      "metadata": {
        "id": "aBOG3-6D86Gb"
      },
      "outputs": [],
      "source": [
        "def main():\n",
        "    value = []\n",
        "\n",
        "    val = input(\"Enter a value: \")\n",
        "    while val:\n",
        "        value.append(val)\n",
        "        val = input(\"Enter a value: \")\n",
        "\n",
        "    print(\"Here is value: \",value)\n",
        "\n",
        "\n",
        "# This provided line is required at the end of\n",
        "# Python file to call the main() function.\n",
        "if __name__ == '__main__':\n",
        "    main()"
      ]
    },
    {
      "cell_type": "markdown",
      "source": [
        "# Code Explanation\n",
        "\n",
        "This Python code snippet is designed to take multiple inputs from the user and store them in a list. Let's break it down step-by-step:\n",
        "\n",
        "1. **Defining the `main` Function**\n",
        "\n",
        "       def main():\n",
        "\n",
        "* This line defines a function called `main`.\n",
        "* Functions are blocks of code that perform a specific task.\n",
        "* The `def` keyword is used to define a function in Python.\n",
        "\n",
        "2. **Initializing an Empty List**\n",
        "\n",
        "       value = []\n",
        "\n",
        "* This line creates an empty list called `value`.\n",
        "* Lists are used to store multiple items in a single variable.\n",
        "* We'll use this list to store the values entered by the user.\n",
        "\n",
        "3. **Taking User Input**\n",
        "\n",
        "       val = input(\"Enter a value: \")\n",
        "\n",
        "* This line uses the `input()` function to prompt the user to enter a value.\n",
        "* The entered value is stored in a variable called `val`.\n",
        "\n",
        "4. **Looping Until Empty Input**\n",
        "\n",
        "       while val:\n",
        "              value.append(val)\n",
        "              val = input(\"Enter a value: \")\n",
        "\n",
        "* This `while` loop continues as long as `val` is not empty.\n",
        "  * **How it Works**: In Python, an empty string is considered `False`. So, the loop continues as long as the user enters some value. When the user presses Enter without typing anything, `val` becomes an empty string, and the loop terminates.\n",
        "* Inside the loop:\n",
        "  * `value.append(val)`: This line adds the value stored in `val` to the `value` list.\n",
        "  * `val = input(\"Enter a value: \")`: This line prompts the user for another value, updating the `val` variable.\n",
        "\n",
        "5. **Printing the Collected Values**\n",
        "\n",
        "      print(\"Here is value: \",value)\n",
        "\n",
        "* After the loop finishes, this line prints the contents of the `value` list.\n",
        "* This shows the user all the values they entered.\n",
        "\n",
        "6. **Calling the `main` Function**\n",
        "\n",
        "      if __name__ == '__main__':\n",
        "          main()\n",
        "\n",
        "* This block is a standard way to ensure that the `main()` function is executed when the script is run.\n",
        "* `if __name__ == '__main__':` checks if the script is being run directly (not imported as a module). If it is, then `main()` is called, starting the process."
      ],
      "metadata": {
        "id": "kwZVAe32-GmO"
      }
    }
  ]
}