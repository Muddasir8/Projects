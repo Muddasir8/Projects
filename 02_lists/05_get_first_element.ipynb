{
  "nbformat": 4,
  "nbformat_minor": 0,
  "metadata": {
    "colab": {
      "provenance": [],
      "authorship_tag": "ABX9TyMlIZ2laaTgBpFyAPvWXDbL",
      "include_colab_link": true
    },
    "kernelspec": {
      "name": "python3",
      "display_name": "Python 3"
    },
    "language_info": {
      "name": "python"
    }
  },
  "cells": [
    {
      "cell_type": "markdown",
      "metadata": {
        "id": "view-in-github",
        "colab_type": "text"
      },
      "source": [
        "<a href=\"https://colab.research.google.com/github/Muddasir8/Projects/blob/main/02_lists/05_get_first_element.ipynb\" target=\"_parent\"><img src=\"https://colab.research.google.com/assets/colab-badge.svg\" alt=\"Open In Colab\"/></a>"
      ]
    },
    {
      "cell_type": "code",
      "execution_count": 3,
      "metadata": {
        "colab": {
          "base_uri": "https://localhost:8080/"
        },
        "id": "wqhhRTqZSpFu",
        "outputId": "8ee43ae8-bfee-4680-8851-b6ff9bbab4f6"
      },
      "outputs": [
        {
          "output_type": "stream",
          "name": "stdout",
          "text": [
            "Please enter an element of the list or press enter to stop. juham\n",
            "Please enter an element of the list or press enter to stop. kuham\n",
            "juham\n"
          ]
        }
      ],
      "source": [
        "def get_first_ele(lst):\n",
        "  \"\"\"Prints the first element of a given non-empty list.\"\"\"\n",
        "\n",
        "  print(lst[0])\n",
        "\n",
        "def get_lst():\n",
        "  lst = []\n",
        "  elem : str = input(\"Please enter an element of the list or press enter to stop. \")\n",
        "  while elem != \"\":\n",
        "    lst.append(elem)\n",
        "    elem = input(\"Please enter an element of the list or press enter to stop. \")\n",
        "    return lst\n",
        "\n",
        "def main():\n",
        "  lst = get_lst()\n",
        "  get_first_ele(lst)\n",
        "\n",
        "\n",
        "\n",
        "# This provided line is required at the end of\n",
        "# Python file to call the main() function.\n",
        "if __name__ == '__main__':\n",
        "    main()"
      ]
    },
    {
      "cell_type": "markdown",
      "source": [
        "# **Code Explanation**\n",
        "\n",
        "This code defines three functions: `get_first_ele`, `get_lst`, and `main`. It then uses these functions to get a list of elements from the user and print the first element of that list.\n",
        "\n",
        "# `get_first_ele` Function\n",
        "\n",
        "     def get_first_ele(lst):\n",
        "       \"\"\"Prints the first element of a given non-empty list.\"\"\"\n",
        "\n",
        "       print(lst[0])\n",
        "\n",
        "* This function takes one argument: lst, which is expected to be a list.\n",
        "* It accesses the first element of the list using lst[0] and prints it to the console using the print function.\n",
        "\n",
        "# `get_lst` Function\n",
        "\n",
        "     def get_lst():\n",
        "      lst = []\n",
        "      elem : str = input(\"Please enter an element of the list or press enter to stop. \")\n",
        "    while elem != \"\":\n",
        "      lst.append(elem)\n",
        "      elem = input(\"Please enter an element of the list or press enter to stop. \")\n",
        "      return lst\n",
        "\n",
        "* This function is responsible for creating and populating the list.\n",
        "* It initializes an empty list called `lst`.\n",
        "* It prompts the user to enter elements using the `input` function and stores the input in the `elem` variable.\n",
        "* It enters a `while` loop that continues as long as `elem` is not an empty string.\n",
        "* Inside the loop, it adds the entered element to the lst using the `append` method.\n",
        "* It then prompts the user for the next element.\n",
        "* Finally, it returns the `lst`.\n",
        "\n",
        "# main Function\n",
        "\n",
        "     def main():\n",
        "      lst = get_lst()\n",
        "      get_first_ele(lst)\n",
        "\n",
        "* This function orchestrates the overall execution of the program.\n",
        "* It calls the `get_lst` function to obtain a list from the user and stores it in the `lst` variable.\n",
        "* It then calls the `get_first_ele` function, passing the `lst` as an argument to print the first element.\n",
        "\n",
        "# Entry Point\n",
        "\n",
        "     if __name__ == '__main__':\n",
        "        main()\n",
        "\n",
        "* This block is a standard way to define the entry point of a Python script.\n",
        "* It checks if the script is being run directly (as opposed to being imported as a module) by comparing the `__name__` variable to '`__main__`'.\n",
        "* If the script is being run directly, it calls the `main` function to start the program."
      ],
      "metadata": {
        "id": "0whiSgz9U5Jv"
      }
    }
  ]
}