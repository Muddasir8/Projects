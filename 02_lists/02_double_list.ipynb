{
  "nbformat": 4,
  "nbformat_minor": 0,
  "metadata": {
    "colab": {
      "provenance": [],
      "authorship_tag": "ABX9TyNg8Re6RQjOAAX/Z4FsBHS6",
      "include_colab_link": true
    },
    "kernelspec": {
      "name": "python3",
      "display_name": "Python 3"
    },
    "language_info": {
      "name": "python"
    }
  },
  "cells": [
    {
      "cell_type": "markdown",
      "metadata": {
        "id": "view-in-github",
        "colab_type": "text"
      },
      "source": [
        "<a href=\"https://colab.research.google.com/github/Muddasir8/Projects/blob/main/02_lists/02_double_list.ipynb\" target=\"_parent\"><img src=\"https://colab.research.google.com/assets/colab-badge.svg\" alt=\"Open In Colab\"/></a>"
      ]
    },
    {
      "cell_type": "code",
      "execution_count": null,
      "metadata": {
        "id": "6FqFh4nn8vQ5"
      },
      "outputs": [],
      "source": [
        "def main():\n",
        "    numbers : list[int] = [1, 2, 3, 4]\n",
        "\n",
        "\n",
        "    for i in range(len(numbers)):\n",
        "      index_element = numbers[i]\n",
        "      numbers[i] = index_element * 2\n",
        "\n",
        "      print(numbers)\n",
        "\n",
        "\n",
        "# This provided line is required at the end of\n",
        "# Python file to call the main() function.\n",
        "if __name__ == '__main__':\n",
        "    main()"
      ]
    },
    {
      "cell_type": "markdown",
      "source": [
        "# **Code Explanation**\n",
        "\n",
        "This Python code defines a function called `main` that iterates through a list of numbers, doubles each number, and prints the list after each modification. Let's break it down step-by-step:\n",
        "\n",
        "1. Defining the `main` function:\n",
        "\n",
        "       def main():\n",
        "\n",
        "* The `def` keyword is used to define a function named `main`. This function encapsulates a block of code that will be executed when called.\n",
        "\n",
        "2. Initializing the list:\n",
        "\n",
        "        numbers : list[int] = [1, 2, 3, 4]\n",
        "\n",
        "\n",
        "* This line creates a variable called numbers and assigns it a list of integers: `[1, 2, 3, 4].`\n",
        "* The `list[int]` notation specifies that the variable `numbers` is expected to hold a list of integers.\n",
        "\n",
        "3. Iterating through the list:\n",
        "\n",
        "       for i in range(len(numbers)):\n",
        "\n",
        "* This line starts a `for` loop that will iterate over each element in the `numbers` list.\n",
        "\n",
        "* `range(len(numbers))` creates a sequence of numbers from 0 to the length of the `numbers` list (which is 4 in this case). The loop variable `i` will take on each value in this sequence.\n",
        "\n",
        "\n",
        "4. Doubling each element:\n",
        "\n",
        "       index_element = numbers[i]\n",
        "            numbers[i] = index_element * 2\n",
        "\n",
        "* Inside the loop, these lines double the value of each element in the list:\n",
        "  * `index_element = numbers[i]` : This line assigns the current element of the list (accessed using `numbers[i]`) to a variable called `index_element`.\n",
        " * `numbers[i] = index_element * 2` : This line updates the current element of the list by multiplying `index_element` by 2 and assigning the result back to the same position in the list `(numbers[i])`.\n",
        "\n",
        "\n",
        "5. Printing the list:\n",
        "\n",
        "       print(numbers)\n",
        "\n",
        "* This line prints the current state of the `numbers` list after each element is doubled.\n",
        "\n",
        "6. Calling the `main` function:\n",
        "\n",
        "       if __name__ == '__main__':\n",
        "          main()\n",
        "\n",
        "* This block of code ensures that the `main` function is executed only when the script is run directly (not imported as a module).\n",
        "* `if __name__ == '__main__':` is a conditional statement that checks if the script is the main program being run.\n",
        "* If this condition is true, the `main()` function is called, which starts the execution of the code within the function."
      ],
      "metadata": {
        "id": "jddrNlHV-h5v"
      }
    }
  ]
}