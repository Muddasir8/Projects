{
  "nbformat": 4,
  "nbformat_minor": 0,
  "metadata": {
    "colab": {
      "provenance": [],
      "authorship_tag": "ABX9TyPG48OI7T/2Tvbb1CDqCMPy",
      "include_colab_link": true
    },
    "kernelspec": {
      "name": "python3",
      "display_name": "Python 3"
    },
    "language_info": {
      "name": "python"
    }
  },
  "cells": [
    {
      "cell_type": "markdown",
      "metadata": {
        "id": "view-in-github",
        "colab_type": "text"
      },
      "source": [
        "<a href=\"https://colab.research.google.com/github/Muddasir8/Projects/blob/main/02_lists/01_add_many_number_py.ipynb\" target=\"_parent\"><img src=\"https://colab.research.google.com/assets/colab-badge.svg\" alt=\"Open In Colab\"/></a>"
      ]
    },
    {
      "cell_type": "code",
      "execution_count": 1,
      "metadata": {
        "colab": {
          "base_uri": "https://localhost:8080/"
        },
        "id": "8Qw4DS_mlCpp",
        "outputId": "a346bcda-316d-4f68-ca77-9744fcfd9fe5"
      },
      "outputs": [
        {
          "output_type": "stream",
          "name": "stdout",
          "text": [
            "the sum of numbers is: 1488\n"
          ]
        }
      ],
      "source": [
        "def sum_number(numbers)-> int:\n",
        "    # Retruns the sum of list of number.\n",
        "\n",
        "    total_number = 0\n",
        "    for number in numbers:\n",
        "        total_number += number\n",
        "\n",
        "    return total_number\n",
        "\n",
        "def main():\n",
        "    numbers: list[int] = [100,500,222,666]\n",
        "    sum_of_numbers: int = sum_number(numbers)\n",
        "    print(f\"the sum of numbers is: {sum_of_numbers}\")\n",
        "\n",
        "\n",
        "\n",
        "# This provided line is required at the end of\n",
        "# Python file to call the main() function.\n",
        "if __name__ == '__main__':\n",
        "    main()"
      ]
    },
    {
      "cell_type": "markdown",
      "source": [
        "# Explanation of the Code"
      ],
      "metadata": {
        "id": "ruhsAr3soUfc"
      }
    },
    {
      "cell_type": "markdown",
      "source": [
        "This code defines two functions: sum_number and main."
      ],
      "metadata": {
        "id": "86YDZ1tyovlP"
      }
    },
    {
      "cell_type": "markdown",
      "source": [
        "# **The** sum_number **Function**"
      ],
      "metadata": {
        "id": "PXjbNSzCo6uC"
      }
    },
    {
      "cell_type": "markdown",
      "source": [
        "1. def sum_number(numbers)-> int: This line defines a function named sum_number.\n",
        "\n",
        "> ◽ It takes one argument called numbers, which is expected to be a list of numbers.\n",
        "\n",
        "> ◽ The -> int indicates that the function is expected to return an integer value.\n",
        "\n"
      ],
      "metadata": {
        "id": "VFpw43QhpHCF"
      }
    },
    {
      "cell_type": "markdown",
      "source": [
        "2. total_number = 0: This line initializes a variable called total_number to 0. This variable will store the sum of the numbers in the list."
      ],
      "metadata": {
        "id": "wsBAxDTWpwMb"
      }
    },
    {
      "cell_type": "markdown",
      "source": [
        "3. for number in numbers: This line starts a loop that iterates through each element in the numbers list.\n",
        "\n",
        "> ◽ In each iteration, the current element is assigned to the variable number.\n",
        "\n"
      ],
      "metadata": {
        "id": "VNG6qqufr0MY"
      }
    },
    {
      "cell_type": "markdown",
      "source": [
        "4. total_number += number: This line adds the current number to the total_number variable, accumulating the sum."
      ],
      "metadata": {
        "id": "awclJhAKsZ4j"
      }
    },
    {
      "cell_type": "markdown",
      "source": [
        "5. return total_number: This line returns the final total_number, which represents the sum of all numbers in the list."
      ],
      "metadata": {
        "id": "invqmYItsgWp"
      }
    },
    {
      "cell_type": "markdown",
      "source": [
        "# The main Function"
      ],
      "metadata": {
        "id": "cmZ6qQU1su8Y"
      }
    },
    {
      "cell_type": "markdown",
      "source": [
        "1. def main(): This line defines a function named main. This function serves as the entry point for the program's execution."
      ],
      "metadata": {
        "id": "D_9iqJcdtBXo"
      }
    },
    {
      "cell_type": "markdown",
      "source": [
        "2. numbers: list[int] = [1,2,3,4,5]: This line creates a list of integers named numbers and assigns it the values [1, 2, 3, 4, 5]."
      ],
      "metadata": {
        "id": "G9IBkIQgtHZv"
      }
    },
    {
      "cell_type": "markdown",
      "source": [
        "3. sum_of_numbers: int = sum_number(numbers): This line calls the sum_number function, passing the numbers list as an argument.\n",
        "\n",
        "*   The result, which is the sum of the numbers, is stored in the variable sum_of_numbers.\n",
        "\n"
      ],
      "metadata": {
        "id": "DopkW282tWez"
      }
    },
    {
      "cell_type": "markdown",
      "source": [
        "4. print(f\"the sum of numbers is: {sum_of_numbers}\"): This line prints the sum of the numbers to the console using an f-string."
      ],
      "metadata": {
        "id": "uWPQeXgcuAVd"
      }
    },
    {
      "cell_type": "markdown",
      "source": [
        "# Executing the Code"
      ],
      "metadata": {
        "id": "jfsCgO8wu8pw"
      }
    },
    {
      "cell_type": "markdown",
      "source": [
        "1. if __name__ == '__main__':: This is a conditional statement that checks if the code is being run as the main program."
      ],
      "metadata": {
        "id": "2P9GUn0EvBjT"
      }
    },
    {
      "cell_type": "markdown",
      "source": [
        "2. main(): If the condition is true (i.e., the code is the main program), it calls the main function, starting the execution of the program logic."
      ],
      "metadata": {
        "id": "jZpHhL6pvF3C"
      }
    }
  ]
}