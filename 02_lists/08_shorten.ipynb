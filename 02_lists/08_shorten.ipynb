{
  "nbformat": 4,
  "nbformat_minor": 0,
  "metadata": {
    "colab": {
      "provenance": [],
      "authorship_tag": "ABX9TyPya0Pjs1NFNwU7mleLqy+T",
      "include_colab_link": true
    },
    "kernelspec": {
      "name": "python3",
      "display_name": "Python 3"
    },
    "language_info": {
      "name": "python"
    }
  },
  "cells": [
    {
      "cell_type": "markdown",
      "metadata": {
        "id": "view-in-github",
        "colab_type": "text"
      },
      "source": [
        "<a href=\"https://colab.research.google.com/github/Muddasir8/Projects/blob/main/02_lists/08_shorten.ipynb\" target=\"_parent\"><img src=\"https://colab.research.google.com/assets/colab-badge.svg\" alt=\"Open In Colab\"/></a>"
      ]
    },
    {
      "cell_type": "code",
      "execution_count": null,
      "metadata": {
        "id": "fS_t_rpsBByi"
      },
      "outputs": [],
      "source": [
        "MAX_LENGTH: int = 3\n",
        "\n",
        "def shorten(lst):\n",
        "  while len(lst) > MAX_LENGTH:\n",
        "    elem = lst.pop()\n",
        "    print(elem)\n",
        "\n",
        "def get_lst():\n",
        "  lst = []\n",
        "  elem = input(\"Please enter an element of the list or press enter to stop. \")\n",
        "  while elem != \"\":\n",
        "    lst.append(elem)\n",
        "    elem = input(\"Please enter an element of the list or press enter to stop. \")\n",
        "  return lst\n",
        "\n",
        "\n",
        "\n",
        "\n",
        "def main():\n",
        "    lst = get_lst()\n",
        "    shorten(lst)\n",
        "\n",
        "# This provided line is required at the end of\n",
        "# Python file to call the main() function.\n",
        "if __name__ == '__main__':\n",
        "    main()"
      ]
    },
    {
      "cell_type": "markdown",
      "source": [
        "# Code Explanation\n",
        "\n",
        "This Python code is designed to create a list of elements entered by the user, and then shorten that list if it exceeds a predetermined maximum length.\n",
        "\n",
        "**Setting the Maximum Length**\n",
        "\n",
        "      MAX_LENGTH: int = 3\n",
        "\n",
        "* This line defines a variable called `MAX_LENGTH` and sets its value to 3.\n",
        "* This variable acts as a limit on the size of the list.\n",
        "* The `: int` annotation indicates that `MAX_LENGTH` is intended to store an integer value.\n",
        "\n",
        "**The `shorten` Function**\n",
        "\n",
        "      def shorten(lst):\n",
        "        while len(lst) > MAX_LENGTH:\n",
        "        elem = lst.pop()\n",
        "        print(elem)\n",
        "\n",
        "* This code defines a function named `shorten` that accepts one argument: `lst`, which represents the list to be potentially shortened.\n",
        "* Inside the function, there's a `while` loop that continues as long as the length of `lst` is greater than `MAX_LENGTH`.\n",
        "* Within the loop, `lst.pop()` removes the last element from the list and assigns it to the variable `elem`.\n",
        "* Then, the value of `elem` (the removed element) is printed to the console.\n",
        "\n",
        "**The `get_lst` Function**\n",
        "\n",
        "      def get_lst():\n",
        "        lst = []\n",
        "        elem = input(\"Please enter an element of the list or press enter to stop. \")\n",
        "        while elem != \"\":\n",
        "          lst.append(elem)\n",
        "          elem = input(\"Please enter an element of the list or press enter to stop. \")\n",
        "        return lst\n",
        "\n",
        "* This code defines a function named `get_lst` that takes no arguments.\n",
        "* It initializes an empty list named `lst`.\n",
        "* It then uses a `while` loop to repeatedly prompt the user for input using the `input()` function.\n",
        "* The loop continues as long as the user enters something other than an empty string (pressing Enter without typing anything).\n",
        "* Each non-empty input from the user is added to the `lst` using `lst.append(elem)`.\n",
        "* Finally, the function returns the populated `lst`.\n",
        "\n",
        "**The `main` Function**\n",
        "\n",
        "       def main():\n",
        "           lst = get_lst()\n",
        "          shorten(lst)\n",
        "\n",
        "* This code defines a function named `main`.\n",
        "* Inside `main`, it first calls the `get_lst()` function to obtain the user-created list and stores it in the variable `lst`.\n",
        "* Next, it calls the `shorten()` function, passing `lst` as an argument to potentially shorten the list.\n",
        "\n",
        "**Running the Code**\n",
        "\n",
        "      if __name__ == '__main__':\n",
        "          main()\n",
        "\n",
        "* This is a standard Python idiom to ensure that the `main()` function is called when the script is executed directly (not imported as a module).\n",
        "* It checks if the current script is the main program being run. If so, it calls the `main()` function to start the execution of the program logic."
      ],
      "metadata": {
        "id": "m0YQM8_xD1qs"
      }
    }
  ]
}