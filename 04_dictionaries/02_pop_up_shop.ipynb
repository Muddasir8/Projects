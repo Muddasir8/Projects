{
  "nbformat": 4,
  "nbformat_minor": 0,
  "metadata": {
    "colab": {
      "provenance": [],
      "authorship_tag": "ABX9TyMpQHJSfjyL7qL/Sjp0CaIf",
      "include_colab_link": true
    },
    "kernelspec": {
      "name": "python3",
      "display_name": "Python 3"
    },
    "language_info": {
      "name": "python"
    }
  },
  "cells": [
    {
      "cell_type": "markdown",
      "metadata": {
        "id": "view-in-github",
        "colab_type": "text"
      },
      "source": [
        "<a href=\"https://colab.research.google.com/github/Muddasir8/Projects/blob/main/04_dictionaries/02_pop_up_shop.ipynb\" target=\"_parent\"><img src=\"https://colab.research.google.com/assets/colab-badge.svg\" alt=\"Open In Colab\"/></a>"
      ]
    },
    {
      "cell_type": "code",
      "execution_count": null,
      "metadata": {
        "id": "LqU2Ea2giOpS"
      },
      "outputs": [],
      "source": [
        "def main():\n",
        "    \"\"\"\n",
        "    Asks the user how many of each fruit they want to buy and calculates the total cost.\n",
        "    \"\"\"\n",
        "    fruits = {\n",
        "        \"apple\": 5.0,\n",
        "        \"durian\": 15.0,\n",
        "        \"jackfruit\": 12.5,\n",
        "        \"kiwi\": 7.0,\n",
        "        \"rambutan\": 8.0,\n",
        "        \"mango\": 10.0\n",
        "    }\n",
        "\n",
        "\n",
        "    total_cost = 0.0\n",
        "\n",
        "    for fruit_name in fruits:\n",
        "        price = fruits[fruit_name]\n",
        "        while True:\n",
        "          try:\n",
        "            amount = int(input(\"How many (\" + fruit_name + \") do you want to buy?: \"))\n",
        "            break\n",
        "          except ValueError:\n",
        "            print(\"Invalid input. Please enter a number.\")\n",
        "    total_cost += (price * amount)\n",
        "\n",
        "    print(\"Your total cost is: \" + str(total_cost))\n",
        "\n",
        "\n",
        "# This provided line is required at the end of\n",
        "# Python file to call the main() function.\n",
        "if __name__ == '__main__':\n",
        "    main()"
      ]
    },
    {
      "cell_type": "markdown",
      "source": [
        "# Code Functionality\n",
        "\n",
        "This code simulates a simple fruit stand program. It presents a list of fruits with their prices, asks the user how many of each they want to buy, and then calculates the total cost.\n",
        "\n",
        "# Code Explanation\n",
        "\n",
        "# 1. Defining the `main` Function\n",
        "\n",
        "        def main():\n",
        "            \"\"\"\n",
        "            Asks the user how many of each fruit they want to buy and calculates the total cost.\n",
        "            \"\"\"\n",
        "            # ... (rest of the code inside the function) ...\n",
        "\n",
        "* `def main():`: This line defines a function named `main`. Functions are blocks of code that perform a specific task.\n",
        "* The triple quotes `(\"\"\"Docstring\"\"\")` contain a description of what the function does. This is called a docstring and is used for documentation.\n",
        "\n",
        "# 2. Fruit Inventory\n",
        "\n",
        "          fruits = {\n",
        "                  \"apple\": 5.0,\n",
        "                  \"durian\": 15.0,\n",
        "                  \"jackfruit\": 12.5,\n",
        "                  \"kiwi\": 7.0,\n",
        "                  \"rambutan\": 8.0,\n",
        "                  \"mango\": 10.0\n",
        "              }\n",
        "\n",
        "* `fruits = { ... }`: This line creates a dictionary called `fruits`.\n",
        " * Dictionaries store data in key-value pairs. Here, the fruit names (e.g., \"apple\") are the keys, and their prices (e.g., 5.0) are the values.\n",
        "\n",
        "# 3. Initializing Total Cost\n",
        "\n",
        "        total_cost = 0.0\n",
        "\n",
        "* `total_cost = 0.0`: This line creates a variable called `total_cost` and sets it to 0.0. This variable will store the total cost of the fruits.\n",
        "\n",
        "# 4. Looping Through Fruits\n",
        "\n",
        "        for fruit_name in fruits:\n",
        "                price = fruits[fruit_name]\n",
        "                # ... (code to get the amount from the user) ...\n",
        "            total_cost += (price * amount)\n",
        "\n",
        "* `for fruit_name in fruits:`: This starts a loop that iterates through each `fruit_name` in the `fruits` dictionary.\n",
        " * Inside the loop, `price = fruits[fruit_name]` retrieves the price of the current fruit using the `fruit_name` as the key in the `fruits` dictionary.\n",
        " * `total_cost += (price * amount)` updates the `total_cost` by adding the cost of the current fruit (price multiplied by the amount).\n",
        "\n",
        "# 5. Getting User Input\n",
        "\n",
        "        while True:\n",
        "                try:\n",
        "                  amount = int(input(\"How many (\" + fruit_name + \") do you want to buy?: \"))\n",
        "                break\n",
        "                  except ValueError:\n",
        "                    print(\"Invalid input. Please enter a number.\")\n",
        "\n",
        "* This code is responsible for:\n",
        "  1. Prompting the user to enter the quantity of each fruit they wish to purchase.\n",
        "  2. Converting user input to an integer with `int()`.\n",
        "  3. Handling potential errors with a `try-except` block to ensure user provides a valid number.\n",
        "  4. Exiting the loop using `break` after a successful input.\n",
        "\n",
        "# 6. Displaying the Total Cost\n",
        "\n",
        "        print(\"Your total cost is: \" + str(total_cost))\n",
        "\n",
        "* `print(...)`: This line displays the final total cost to the user. `str(total_cost)` converts the total cost (a number) to a string so it can be combined with other text for printing.\n",
        "\n",
        "# 7. Running the Code\n",
        "\n",
        "        if __name__ == '__main__':\n",
        "            main()\n",
        "\n",
        "* This is a standard way to run the `main` function when the script is executed. It ensures that the code inside the `main` function is only executed when the script is run directly (not imported as a module into another script)."
      ],
      "metadata": {
        "id": "x9K2UmmdlCmU"
      }
    }
  ]
}