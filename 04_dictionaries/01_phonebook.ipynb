{
  "nbformat": 4,
  "nbformat_minor": 0,
  "metadata": {
    "colab": {
      "provenance": [],
      "authorship_tag": "ABX9TyP57A11CLk0kOcOHq/EAoNg",
      "include_colab_link": true
    },
    "kernelspec": {
      "name": "python3",
      "display_name": "Python 3"
    },
    "language_info": {
      "name": "python"
    }
  },
  "cells": [
    {
      "cell_type": "markdown",
      "metadata": {
        "id": "view-in-github",
        "colab_type": "text"
      },
      "source": [
        "<a href=\"https://colab.research.google.com/github/Muddasir8/Projects/blob/main/04_dictionaries/01_phonebook.ipynb\" target=\"_parent\"><img src=\"https://colab.research.google.com/assets/colab-badge.svg\" alt=\"Open In Colab\"/></a>"
      ]
    },
    {
      "cell_type": "code",
      "execution_count": 3,
      "metadata": {
        "colab": {
          "base_uri": "https://localhost:8080/"
        },
        "id": "LHtlyUxlc6Su",
        "outputId": "34ee86ba-1ab6-4118-9bab-81e28aac777f"
      },
      "outputs": [
        {
          "name": "stdout",
          "output_type": "stream",
          "text": [
            "Enter Name: muddasir\n",
            "Enter Number: 031131\n",
            "Enter Name: kashif\n",
            "Enter Number: 0311225\n",
            "Enter Name: kabeer\n",
            "Enter Number: 5000\n",
            "Enter Name: \n",
            "muddasir : 031131\n",
            "kashif : 0311225\n",
            "kabeer : 5000\n",
            "Enter Name: muddasir\n",
            "muddasir : 031131\n",
            "Enter Name: sams\n",
            "Name not found\n",
            "Enter Name: \n"
          ]
        }
      ],
      "source": [
        "def read_phone_numbers():\n",
        "    \"\"\"\n",
        "    Ask the user for names/numbers to store in a phonebook (dictionary).\n",
        "    Returns the phonebook.\n",
        "    \"\"\"\n",
        "\n",
        "    phonebook = {}\n",
        "\n",
        "    while True:\n",
        "      name = input(\"Enter Name: \")\n",
        "      if name == \"\":\n",
        "        break\n",
        "      number = input(\"Enter Number: \")\n",
        "      phonebook[name] = number\n",
        "    return phonebook\n",
        "\n",
        "def print_phonebook(phonebook):\n",
        "    \"\"\"\n",
        "    Prints out all the names/numbers in the phonebook.\n",
        "    \"\"\"\n",
        "    for name, number in phonebook.items():\n",
        "      print(f\"{name} : {number}\")\n",
        "\n",
        "def lookup_numbers(phonebook):\n",
        "    \"\"\"\n",
        "    Allow the user to lookup phone numbers in the phonebook\n",
        "    by looking up the number associated with a name.\n",
        "    \"\"\"\n",
        "    while True:\n",
        "      name = input(\"Enter Name to lookup: \")\n",
        "      if name == \"\":\n",
        "        break\n",
        "      if name in phonebook:\n",
        "        print(f\"{name} : {phonebook[name]}\")\n",
        "      else:\n",
        "        print(\"Name not found\")\n",
        "\n",
        "\n",
        "\n",
        "def main():\n",
        "  phonebook = read_phone_numbers()\n",
        "  print_phonebook(phonebook)\n",
        "  lookup_numbers(phonebook)\n",
        "\n",
        "\n",
        "\n",
        "# This provided line is required at the end of\n",
        "# Python file to call the main() function.\n",
        "if __name__ == '__main__':\n",
        "    main()"
      ]
    }
  ]
}