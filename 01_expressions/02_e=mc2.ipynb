{
  "nbformat": 4,
  "nbformat_minor": 0,
  "metadata": {
    "colab": {
      "provenance": [],
      "authorship_tag": "ABX9TyOrRZ/fFmWlacRkp/8tDjPR",
      "include_colab_link": true
    },
    "kernelspec": {
      "name": "python3",
      "display_name": "Python 3"
    },
    "language_info": {
      "name": "python"
    }
  },
  "cells": [
    {
      "cell_type": "markdown",
      "metadata": {
        "id": "view-in-github",
        "colab_type": "text"
      },
      "source": [
        "<a href=\"https://colab.research.google.com/github/Muddasir8/Projects/blob/main/01_expressions/02_e%3Dmc2.ipynb\" target=\"_parent\"><img src=\"https://colab.research.google.com/assets/colab-badge.svg\" alt=\"Open In Colab\"/></a>"
      ]
    },
    {
      "cell_type": "code",
      "execution_count": 8,
      "metadata": {
        "colab": {
          "base_uri": "https://localhost:8080/"
        },
        "id": "K-CL-It-lJ0F",
        "outputId": "7e193f4f-266f-4b2d-ef3c-15cebad4cb93"
      },
      "outputs": [
        {
          "output_type": "stream",
          "name": "stdout",
          "text": [
            "Enter kilos of mass: 20\n",
            "\n",
            "e = m * c^2...\n",
            "\n",
            "m = 20.0kg\n",
            "C = 299792458 m/s\n",
            "1.7975103574736353e+18joules of energy\n"
          ]
        }
      ],
      "source": [
        "c = 299792458\n",
        "\n",
        "def main():\n",
        "  try:\n",
        "    mass = float(input(\"Enter kilos of mass: \"))\n",
        "\n",
        "    energy_joules : float = mass * (c ** 2)\n",
        "\n",
        "    print(\"\\ne = m * c^2...\\n\")\n",
        "    print(f\"m = \" + str(mass) + \"kg\")\n",
        "    print(f\"C = \" + str(c) + \" m/s\")\n",
        "\n",
        "    print(str(energy_joules) + \"joules of energy\")\n",
        "\n",
        "  except ValueError:\n",
        "    print(\"Invalid input\")\n",
        "\n",
        "\n",
        "# This provided line is required at the end of\n",
        "# Python file to call the main() function.\n",
        "if __name__ == '__main__':\n",
        "    main()"
      ]
    },
    {
      "cell_type": "markdown",
      "source": [
        "# Code Explanation\n",
        "\n",
        "This code calculates the energy equivalent of a given mass using Einstein's famous equation, E=mc².\n",
        "\n",
        "*   This line defines a variable `c` and assigns it the value 299,792,458. This represents the speed of light in meters per second, a fundamental constant in physics. The underscores are used for readability and have no impact on the numerical value\n",
        "\n",
        "*   `def main():` This line defines a function called `main`. Functions are blocks of code that can be reused. The `main` function is a common starting point in many Python programs.\n",
        "\n",
        "*   `try:`: This begins a `try-except` block, which is used for error handling. The code within the `try` block will be executed, and if a `ValueError` occurs (e.g., the user enters text instead of a number), the code within the `except` block will be executed instead.\n",
        "\n",
        "*   `mass = float(input(\"Enter kilos of mass: \"))`: This line prompts the user to enter the mass in kilograms using the `input()` function. The input is then converted to a floating-point number using `float()` and stored in the `mass` variable.\n",
        "*   `energy_joules : float = mass * (c ** 2)`: This line calculates the energy using Einstein's equation (E=mc²). `c ** 2` means `c` raised to the power of 2. The result is stored in the `energy_joules` variable, which is explicitly declared as a float using type hinting (`float`).\n",
        "\n",
        "\n",
        "*   `print(...)`: These lines print the results to the console. They display the equation, the input mass, the speed of light, and the calculated energy. `f`-strings (formatted string literals) are used to embed the values of variables within the strings.\n",
        "\n",
        "\n",
        "*   `except ValueError:`: This catches the `ValueError` that might be raised if the user enters invalid input (e.g., non-numeric characters) and prints an error message.\n",
        "\n",
        "\n",
        "*   This line is a common pattern in Python scripts. It ensures that the `main()` function is called only when the script is run directly (not imported as a module). `__name__` is a special variable in Python; its value is `__main__` when the script is executed.\n"
      ],
      "metadata": {
        "id": "xzCY9Sw-tTAW"
      }
    }
  ]
}