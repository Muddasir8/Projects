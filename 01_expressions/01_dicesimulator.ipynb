{
  "nbformat": 4,
  "nbformat_minor": 0,
  "metadata": {
    "colab": {
      "provenance": [],
      "authorship_tag": "ABX9TyOYUH0Y1RGFfzX+yYiILMV+",
      "include_colab_link": true
    },
    "kernelspec": {
      "name": "python3",
      "display_name": "Python 3"
    },
    "language_info": {
      "name": "python"
    }
  },
  "cells": [
    {
      "cell_type": "markdown",
      "metadata": {
        "id": "view-in-github",
        "colab_type": "text"
      },
      "source": [
        "<a href=\"https://colab.research.google.com/github/Muddasir8/Projects/blob/main/01_expressions/01_dicesimulator.ipynb\" target=\"_parent\"><img src=\"https://colab.research.google.com/assets/colab-badge.svg\" alt=\"Open In Colab\"/></a>"
      ]
    },
    {
      "cell_type": "code",
      "execution_count": null,
      "metadata": {
        "id": "4ec9Vq0X0guY"
      },
      "outputs": [],
      "source": [
        "import random\n",
        "\n",
        "dices_sides = 6\n",
        "\n",
        "def role_dice():\n",
        "    \"\"\"\n",
        "    simulates rolling two dices and prints their total.\n",
        "    \"\"\"\n",
        "    die1 = random.randint(1, dices_sides)\n",
        "    die2 = random.randint(1, dices_sides)\n",
        "    total = die1 + die2\n",
        "    print(f\"You rolled a {die1} and a {die2}, for a total of {total}.\")\n",
        "\n",
        "def main():\n",
        "    die1 = 10\n",
        "    print(f\"die1 in main() start as {die1}\")\n",
        "\n",
        "    for i in range(3):\n",
        "        role_dice()\n",
        "\n",
        "    print(f\"die1 in main() end as {die1}\")\n",
        "\n",
        "# This provided line is required at the end of\n",
        "# Python file to call the main() function.\n",
        "if __name__ == \"__main__\":\n",
        "    main()"
      ]
    },
    {
      "cell_type": "markdown",
      "source": [
        "# **Code Explain**"
      ],
      "metadata": {
        "id": "2YpwBl5481zA"
      }
    },
    {
      "cell_type": "markdown",
      "source": [
        "# Importing the `random` Module\n",
        "\n",
        "\n",
        "*   This line imports the `random` module, which is a built-in Python library.\n",
        "*   This module is essential for generating random numbers, which is needed to simulate rolling dice.\n",
        "\n"
      ],
      "metadata": {
        "id": "Cw695W2w860o"
      }
    },
    {
      "cell_type": "markdown",
      "source": [
        "# Defining the Number of Sides on the Dice\n",
        "\n",
        "\n",
        "*   This line defines a variable called `dices_sides` and sets it to `6`.\n",
        "*   This variable represents the number of sides on each die, assuming standard six-sided dice.\n",
        "\n"
      ],
      "metadata": {
        "id": "rVO5BEFI9OYN"
      }
    },
    {
      "cell_type": "markdown",
      "source": [
        "# Defining the `role_dice` Function\n",
        "\n",
        "*   This section defines a function called `role_dice`.\n",
        "*   **Purpose**: This function simulates rolling two dice and then prints the result to the console.\n",
        "\n",
        "\n"
      ],
      "metadata": {
        "id": "kg64lUjU9hOY"
      }
    },
    {
      "cell_type": "markdown",
      "source": [
        "\n",
        "\n",
        "*   **How it works:**\n",
        "\n",
        "1.   It uses `random.randint(1, dices_sides)` to generate two random numbers, representing the values of the two dice. These numbers will be between 1 and the value of `dices_sides` (which is 6). These random numbers are assigned to the variables `die1` and `die2`.\n",
        "\n",
        "2.   It calculates the total of the two dice rolls and assigns it to the variable `total`.\n",
        "3.   It prints a message to the console displaying the values of the two dice and their total\n",
        "\n",
        "\n",
        "\n",
        "\n",
        "\n"
      ],
      "metadata": {
        "id": "Xxon3sIm94l_"
      }
    },
    {
      "cell_type": "markdown",
      "source": [
        "# Defining the `main` Function"
      ],
      "metadata": {
        "id": "dN8LicVs-eFZ"
      }
    },
    {
      "cell_type": "markdown",
      "source": [
        "\n",
        "\n",
        "*   This section defines another function called `main`.\n",
        "*   **Purpose**: This function serves as the entry point of the program.\n",
        "\n",
        "*   **How it works:**\n",
        "\n",
        "1.   It initializes a variable `die1` with the value `10`. This is separate from the `die1` used within the `role_dice` function and illustrates the concept of variable scope.\n",
        "\n",
        "2.   It prints the initial value of `die1`.\n",
        "\n",
        "3.   It enters a loop using `for i in range(3)`. This loop runs three times.\n",
        "4.   Inside the loop, it calls the `role_dice` function, simulating rolling the dice three times.\n",
        "\n",
        "\n",
        "5.   After the loop completes, it prints the final value of `die1`, which is still `10` as the variable inside the `role_dice` is different.\n",
        "\n",
        "\n",
        "\n",
        "\n"
      ],
      "metadata": {
        "id": "44skJomq-khk"
      }
    }
  ]
}