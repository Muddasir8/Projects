{
  "nbformat": 4,
  "nbformat_minor": 0,
  "metadata": {
    "colab": {
      "provenance": [],
      "authorship_tag": "ABX9TyP+ZKEGiZxhcJJRFTqAx+xY",
      "include_colab_link": true
    },
    "kernelspec": {
      "name": "python3",
      "display_name": "Python 3"
    },
    "language_info": {
      "name": "python"
    }
  },
  "cells": [
    {
      "cell_type": "markdown",
      "metadata": {
        "id": "view-in-github",
        "colab_type": "text"
      },
      "source": [
        "<a href=\"https://colab.research.google.com/github/Muddasir8/Projects/blob/main/01_expressions/07_tiny_mad_lib.ipynb\" target=\"_parent\"><img src=\"https://colab.research.google.com/assets/colab-badge.svg\" alt=\"Open In Colab\"/></a>"
      ]
    },
    {
      "cell_type": "code",
      "execution_count": null,
      "metadata": {
        "id": "e_dLPujZMl0F"
      },
      "outputs": [],
      "source": [
        "def main():\n",
        "      programming_language = input(\"Name a programming language: \")\n",
        "      bug_type = input(\"Name a type of bug (e.g., syntax error, memory leak, etc.): \")\n",
        "      emotion = input(\"How do you feel when debugging? \")\n",
        "      verb = input(\"What do you do when debugging? \")\n",
        "      tech_company = input(\"Name a famous tech company: \")\n",
        "\n",
        "\n",
        "      print(f\"\\nI was coding in {programming_language} when suddenly, a {bug_type} appeared! 😱\")\n",
        "      print(f\"I felt so {emotion}, but I decided to {verb} until I fixed it.\")\n",
        "      print(f\"After hours of struggle, I finally solved it and felt like a pro developer!\")\n",
        "      print(f\"Maybe one day, {tech_company} will hire me for my debugging skills! 🚀\")\n",
        "\n",
        "\n",
        "# This provided line is required at the end of\n",
        "# Python file to call the main() function.\n",
        "if __name__ == '__main__':\n",
        "    main()"
      ]
    },
    {
      "cell_type": "markdown",
      "source": [
        "# **Defining the `main` Function**\n",
        "\n",
        "\n",
        "    def main():\n",
        "          programming_language = input(\"Name a programming language: \")\n",
        "          bug_type = input(\"Name a type of bug (e.g., syntax error, memory leak, etc.): \")\n",
        "          emotion = input(\"How do you feel when debugging? \")\n",
        "          verb = input(\"What do you do when debugging? \")\n",
        "          tech_company = input(\"Name a famous tech company: \")\n",
        "\n",
        "\n",
        "          print(f\"\\nI was coding in {programming_language} when suddenly, a {bug_type} appeared! 😱\")\n",
        "          print(f\"I felt so {emotion}, but I decided to {verb} until I fixed it.\")\n",
        "          print(f\"After hours of struggle, I finally solved it and felt like a pro developer!\")\n",
        "          print(f\"Maybe one day, {tech_company} will hire me for my debugging skills! 🚀\")\n",
        "\n",
        "1. `def main():`: This line defines a function called `main`. A function is a block of code that performs a specific task. The `main` function is a common starting point in many Python programs.\n",
        "\n",
        "2. `input():` Inside the `main` function, we see several lines using the `input()` function. This function prompts the user to enter some text and then stores that text in a variable. For example:\n",
        "\n",
        "  * `programming_language = input(\"Name a programming language: \")` This line asks the user to name a programming language and stores their answer in the `programming_language` variable.\n",
        " * Similar lines ask for a bug type, an emotion, a verb, and a tech company name, storing the responses in the respective variables.\n",
        "3. `print(f\"...\"):` These lines use f-strings (formatted string literals) to create and display messages on the screen. The curly braces `{}` within the strings are placeholders where the values of the variables are inserted. For example:\n",
        "\n",
        " * `print(f\"\\nI was coding in {programming_language} when suddenly, a {bug_type} appeared! 😱\")` This line inserts the values of `programming_language` and `bug_type` into the message before printing it.\n",
        "Running the Code\n",
        "\n",
        "         if __name__ == '__main__':\n",
        "             main()\n",
        "\n",
        "1. `if __name__ == '__main__':`: This line is a common Python idiom. It checks if the script is being run directly (as opposed to being imported as a module into another script). If the script is the main program, the code inside this block will execute.\n",
        "2. `main():` If the condition in the `if` statement is true, this line calls the `main` function, which we defined earlier. This starts the execution of the code within the `main` function, prompting the user for input and then displaying the formatted messages."
      ],
      "metadata": {
        "id": "dQOaOYaLRm2W"
      }
    }
  ]
}