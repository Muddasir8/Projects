{
  "nbformat": 4,
  "nbformat_minor": 0,
  "metadata": {
    "colab": {
      "provenance": [],
      "authorship_tag": "ABX9TyPFNGzWhbg3m3GpTVq5HCz0",
      "include_colab_link": true
    },
    "kernelspec": {
      "name": "python3",
      "display_name": "Python 3"
    },
    "language_info": {
      "name": "python"
    }
  },
  "cells": [
    {
      "cell_type": "markdown",
      "metadata": {
        "id": "view-in-github",
        "colab_type": "text"
      },
      "source": [
        "<a href=\"https://colab.research.google.com/github/Muddasir8/Projects/blob/main/01_expressions/05_remainder_division.ipynb\" target=\"_parent\"><img src=\"https://colab.research.google.com/assets/colab-badge.svg\" alt=\"Open In Colab\"/></a>"
      ]
    },
    {
      "cell_type": "code",
      "execution_count": null,
      "metadata": {
        "id": "f2RPS5EG_5mf"
      },
      "outputs": [],
      "source": [
        "def main():\n",
        "    try:\n",
        "       divided = int(input(\"\\033[1;3mPlease enter an integer to be divided: \\033[0m\"))\n",
        "       division = int(input(\"\\033[1;3mPlease enter an integer to divied by: \\033[0m\"))\n",
        "\n",
        "       if division == 0:\n",
        "        print(\"\\033[1;31mYou can't divide by zero!\\033[0m\")\n",
        "        return\n",
        "\n",
        "       quotient = divided // division\n",
        "       remainder = divided % division\n",
        "\n",
        "       print(f\"The result of this division is {quotient} with a remainder of {remainder}\")\n",
        "\n",
        "    except ValueError:\n",
        "        print(\"\\033[1;31mPlease enter a valid integer!\\033[0m\")\n",
        "\n",
        "\n",
        "# This provided line is required at the end of\n",
        "# Python file to call the main() function.\n",
        "if __name__ == '__main__':\n",
        "    main()"
      ]
    },
    {
      "cell_type": "markdown",
      "source": [
        "**Defining the `main` Function**\n",
        "\n",
        "`def main():`\n",
        "    # Code inside the function goes here\n",
        "\n",
        "* This line defines a function called `main`.\n",
        "* Functions are blocks of reusable code that perform a specific task.\n",
        "* The `main` function is a common starting point in Python programs.\n",
        "***Handling Potential Errors with `try` and `except`***\n",
        "\n",
        "`try:`\n",
        "        # Code that might cause an error\n",
        "    except ValueError:\n",
        "        # Code to handle the error\n",
        "\n",
        "* The `try` block contains code that might raise an error.\n",
        "* In this case, it's trying to convert user input into integers using `int()`. If the user enters something that's not an integer (like text), a `ValueError` will occur.\n",
        "* The `except ValueError` block is designed to catch this specific type of error. If a `ValueError` happens, the code inside the `except` block will execute, printing an error message.\n",
        "\n",
        "***Getting User Input***\n",
        "\n",
        "    divided = int(input(\"\\033[1;3mPlease enter an integer to be divided: \\033[0m\"))\n",
        "    division = int(input(\"\\033[1;3mPlease enter an integer to divied by: \\033[0m\"))\n",
        "\n",
        "* These lines get two integers from the user.\n",
        "    * `input()` displays a message to the user and waits for them to type something in.\n",
        "    * `int()` attempts to convert the user's input into an integer.\n",
        "* The values are stored in the `variables` `divided` and division.\n",
        "* The parts like `\\033[1;3m` and `\\033[0m` are ANSI escape codes that are used to add color and formatting to the output in the terminal.\n",
        "\n",
        "***Checking for Division by Zero***\n",
        "\n",
        "    if division == 0:\n",
        "           print(\"\\033[1;31mYou can't divide by zero!\\033[0m\")\n",
        "           return\n",
        "\n",
        "* This is a crucial step! Dividing by zero is mathematically undefined and will cause an error in Python.\n",
        "* This `if` statement checks if the `division` variable is equal to 0.\n",
        "   * If it is, a message is printed to warn the user.\n",
        "   * `return` immediately exits the `main` function, preventing the division from happening.\n",
        "\n",
        "**Performing the Division**\n",
        "\n",
        "    quotient = divided // division\n",
        "           remainder = divided % division\n",
        "\n",
        "* If the code reaches this point, it means `division` is not 0, and it's safe to divide.\n",
        "* `//` is the floor division operator. It gives the whole number result of the division.\n",
        "* `%` is the modulo operator. It gives the remainder of the division.\n",
        "* The results are stored in the `quotient` and `remainder` variables.\n",
        "\n",
        "**Displaying the Result**\n",
        "\n",
        "    print(f\"The result of this division is {quotient} with a remainder of {remainder}\")\n",
        "\n",
        "* Finally, this line prints the result of the division in a user-friendly format using an f-string.\n",
        "\n",
        "***Calling the `main` Function***\n",
        "\n",
        "    if __name__ == '__main__':\n",
        "        main()\n",
        "\n",
        "* This is a standard way to run the `main` function when the Python script is executed.\n",
        "* `The if __name__ == '__main__':` block ensures that the `main` function is called only when the script is run directly (not when it's imported as a module into another script)."
      ],
      "metadata": {
        "id": "1BEx1Io4CzE_"
      }
    }
  ]
}