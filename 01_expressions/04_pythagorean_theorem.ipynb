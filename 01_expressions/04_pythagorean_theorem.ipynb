{
  "nbformat": 4,
  "nbformat_minor": 0,
  "metadata": {
    "colab": {
      "provenance": [],
      "authorship_tag": "ABX9TyMMiH6WXwvzdSnZMZi5jNnB",
      "include_colab_link": true
    },
    "kernelspec": {
      "name": "python3",
      "display_name": "Python 3"
    },
    "language_info": {
      "name": "python"
    }
  },
  "cells": [
    {
      "cell_type": "markdown",
      "metadata": {
        "id": "view-in-github",
        "colab_type": "text"
      },
      "source": [
        "<a href=\"https://colab.research.google.com/github/Muddasir8/Projects/blob/main/01_expressions/04_pythagorean_theorem.ipynb\" target=\"_parent\"><img src=\"https://colab.research.google.com/assets/colab-badge.svg\" alt=\"Open In Colab\"/></a>"
      ]
    },
    {
      "cell_type": "code",
      "execution_count": 10,
      "metadata": {
        "colab": {
          "base_uri": "https://localhost:8080/"
        },
        "id": "Z-9ixtCe2bQj",
        "outputId": "af9a91a0-3d82-47f2-8181-5212563c6ea0"
      },
      "outputs": [
        {
          "output_type": "stream",
          "name": "stdout",
          "text": [
            "Enter a: 5\n",
            "Enter b: 5\n",
            "The length of c (the hypotenuse) is: 7.07\n"
          ]
        }
      ],
      "source": [
        "import math\n",
        "\n",
        "def main():\n",
        "    try:\n",
        "       a = float(input(\"Enter a: \"))\n",
        "       b = float(input(\"Enter b: \"))\n",
        "\n",
        "       if a <= 0 or b <= 0:\n",
        "         print(\"Side lengths must be positive numbers!\")\n",
        "         return\n",
        "\n",
        "       c = math.sqrt(a**2 + b**2)\n",
        "\n",
        "       print(f\"The length of c (the hypotenuse) is: {c:.2f}\")\n",
        "\n",
        "    except ValueError:\n",
        "        print(\"Invalid input. Please enter valid numbers.\")\n",
        "\n",
        "\n",
        "# This provided line is required at the end of\n",
        "# Python file to call the main() function.\n",
        "if __name__ == '__main__':\n",
        "    main()"
      ]
    },
    {
      "cell_type": "markdown",
      "source": [
        "# Code Explain\n",
        "\n",
        "# **Importing the `math` module**\n",
        "\n",
        "`import math`\n",
        "\n",
        "* This line imports the `math` module, which provides mathematical functions like square root (`math.sqrt`) that the code will use later.\n",
        "\n",
        "**Defining the `main` function**\n",
        "\n",
        "def main():\n",
        "    try:\n",
        "       a = float(input(\"Enter a: \"))\n",
        "       b = float(input(\"Enter b: \"))\n",
        "\n",
        "       if a <= 0 or b <= 0:\n",
        "         print(\"Side lengths must be positive numbers!\")\n",
        "         return\n",
        "\n",
        "       c = math.sqrt(a**2 + b**2)\n",
        "\n",
        "       print(f\"The length of c (the hypotenuse) is: {c:.2f}\")\n",
        "\n",
        "    except ValueError:\n",
        "        print(\"Invalid input. Please enter valid numbers.\")\n",
        "\n",
        "\n",
        "* This block defines a function called `main`.\n",
        "* Functions are blocks of code that perform a specific task.\n",
        "* The `main` function is where the primary logic of this program resides.\n",
        "\n",
        "**Error Handling with `try` and `except`**\n",
        "\n",
        "* The `try` and `except` block is a mechanism to handle potential errors:\n",
        "   * `try`: The code within the `try` block is executed. If an error occurs, it jumps to the `except` block.\n",
        "   * `except ValueError`: This specific `except` block catches errors of type `ValueError`, which might happen if the user enters text instead of numbers. If a `ValueError` occurs, it prints an error message.\n",
        "**Getting User Input**\n",
        "  * `a = float(input(\"Enter a: \"))`: This line prompts the user to enter a value for `a` and converts it to a floating-point number using `float()`.\n",
        "  * `b = float(input(\"Enter b: \"))`: Similarly, this gets the value for `b` from the user and converts it to a float.\n",
        "**Input Validation**\n",
        "  * `if a <= 0 or b <= 0:`: This line checks if either `a` or `b` is less than or equal to 0. If true, it means the side lengths are invalid, and it prints an error message and exits the function using `return`.\n",
        "**Calculating the Hypotenuse**\n",
        "  * `c = math.sqrt(a**2 + b**2):` This is the core calculation using the Pythagorean theorem.\n",
        "    * It uses the `math.sqrt` function to calculate the square root of (`a` squared plus `b` squared), which gives the length of the hypotenuse (`c`).\n",
        "**Displaying the Result**\n",
        "  * `print(f\"The length of c (the hypotenuse) is: {c:.2f}\"):` This line prints the calculated hypotenuse (`c`) formatted to two decimal places.\n",
        "**Calling the `main` function**\n",
        "\n",
        "   if __name__ == '__main__':\n",
        "      main()\n",
        "\n",
        "* This part is crucial for running the program.\n",
        "* `if __name__ == '__main__':` is a conditional statement that executes the code inside it only if the script is run directly (not imported as a module).\n",
        "* `main()`: This line calls the `main` function, starting the execution of the program logic."
      ],
      "metadata": {
        "id": "WaAH-wN17Xaj"
      }
    }
  ]
}