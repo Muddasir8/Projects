{
  "nbformat": 4,
  "nbformat_minor": 0,
  "metadata": {
    "colab": {
      "provenance": [],
      "authorship_tag": "ABX9TyM0gnsSaK0q0k/03EfYDarp",
      "include_colab_link": true
    },
    "kernelspec": {
      "name": "python3",
      "display_name": "Python 3"
    },
    "language_info": {
      "name": "python"
    }
  },
  "cells": [
    {
      "cell_type": "markdown",
      "metadata": {
        "id": "view-in-github",
        "colab_type": "text"
      },
      "source": [
        "<a href=\"https://colab.research.google.com/github/Muddasir8/Projects/blob/main/01_expressions/06_seconds_in_year.ipynb\" target=\"_parent\"><img src=\"https://colab.research.google.com/assets/colab-badge.svg\" alt=\"Open In Colab\"/></a>"
      ]
    },
    {
      "cell_type": "code",
      "execution_count": null,
      "metadata": {
        "id": "EoWpVVIQGtWk"
      },
      "outputs": [],
      "source": [
        "DAYS_IN_YEAR = 365\n",
        "HOURS_IN_DAY = 24\n",
        "MINUTES_IN_HOUR = 60\n",
        "SECONDS_IN_MINUTE = 60\n",
        "\n",
        "\n",
        "def main():\n",
        "\n",
        "    sec_in_year = DAYS_IN_YEAR * HOURS_IN_DAY * MINUTES_IN_HOUR * SECONDS_IN_MINUTE\n",
        "\n",
        "    print(f\"There are {sec_in_year} in a year\")\n",
        "\n",
        "\n",
        "# This provided line is required at the end of\n",
        "# Python file to call the main() function.\n",
        "if __name__ == '__main__':\n",
        "    main()"
      ]
    },
    {
      "cell_type": "markdown",
      "source": [
        "# **Code Explanation**\n",
        "\n",
        "This Python code calculates the number of seconds in a year and prints the result. Let's break it down step-by-step:\n",
        "\n",
        "1. Defining Constants:\n",
        "\n",
        "             DAYS_IN_YEAR = 365\n",
        "             HOURS_IN_DAY = 24\n",
        "             MINUTES_IN_HOUR = 60\n",
        "             SECONDS_IN_MINUTE = 60\n",
        "\n",
        "* These lines define four constants using the `=`\n",
        "assignment.\n",
        "* Constants are like containers that hold values which are not supposed to change during the code's execution.\n",
        "* `DAYS_IN_YEAR` is assigned the value 365.\n",
        "* `HOURS_IN_DAY` is assigned the value 24.\n",
        "* `MINUTES_IN_HOUR` is assigned the value 60.\n",
        "* `SECONDS_IN_MINUTE` is assigned the value 60.\n",
        "\n",
        "2. **Defining the `main` Function:**\n",
        "\n",
        "* This block defines a function called `main` using the `def` keyword.\n",
        "* Functions are blocks of code that can be called and executed when needed.\n",
        "* Inside the `main` function:\n",
        "   * `sec_in_year` is assigned the result of multiplying the four constants together (`DAYS_IN_YEAR`, `HOURS_IN_DAY`, `MINUTES_IN_HOUR`, `SECONDS_IN_MINUTE`).\n",
        "   * The `print` function is used to display the result, formatted using an f-string (`f\"There are {sec_in_year} in a year\"`). The f-string allows us to embed the value of `sec_in_year` directly within the string.\n",
        "3. **Calling the `main` Function:**\n",
        "\n",
        "        if __name__ == '__main__':\n",
        "            main()\n",
        "\n",
        "* This part of the code ensures that the `main` function is called only when the script is executed directly (not imported as a module).\n",
        "* `if __name__ == '__main__':` is a common pattern in Python scripts.\n",
        "* If this condition is true, it calls the `main` function, thereby executing the code within it."
      ],
      "metadata": {
        "id": "dyiuXyFXJI0o"
      }
    }
  ]
}