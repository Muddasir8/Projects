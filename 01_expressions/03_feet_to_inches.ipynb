{
  "nbformat": 4,
  "nbformat_minor": 0,
  "metadata": {
    "colab": {
      "provenance": [],
      "authorship_tag": "ABX9TyOsh1WEcAIxqZqXiZgE86OY",
      "include_colab_link": true
    },
    "kernelspec": {
      "name": "python3",
      "display_name": "Python 3"
    },
    "language_info": {
      "name": "python"
    }
  },
  "cells": [
    {
      "cell_type": "markdown",
      "metadata": {
        "id": "view-in-github",
        "colab_type": "text"
      },
      "source": [
        "<a href=\"https://colab.research.google.com/github/Muddasir8/Projects/blob/main/01_expressions/03_feet_to_inches.ipynb\" target=\"_parent\"><img src=\"https://colab.research.google.com/assets/colab-badge.svg\" alt=\"Open In Colab\"/></a>"
      ]
    },
    {
      "cell_type": "code",
      "execution_count": null,
      "metadata": {
        "id": "bfAVaDkGxI9o"
      },
      "outputs": [],
      "source": [
        "inches_in_foot: int = 12\n",
        "\n",
        "def main():\n",
        "  feet = float(input(\"Enter the number of feet: \"))\n",
        "  inches = feet * inches_in_foot\n",
        "  print(f\"{feet} feet is {inches} inches.\")\n",
        "\n",
        "\n",
        "\n",
        "# This provided line is required at the end of\n",
        "# Python file to call the main() function.\n",
        "if __name__ == '__main__':\n",
        "    main()"
      ]
    },
    {
      "cell_type": "markdown",
      "source": [
        "# Code Explanation\n",
        "This Python code is a simple program that converts feet to inches. Let's break it down step-by-step:\n",
        "\n",
        "**Variable Declaration**\n",
        "\n",
        "*   This line declares a variable called `inches_in_foot` and assigns it the value `12`.\n",
        "\n",
        "*   The `: int` part is a type hint, indicating that the variable is expected to hold an integer value.\n",
        "*   This variable represents the number of inches in one foot, which is a constant value.\n",
        "\n",
        "**Function Definition**\n",
        "\n",
        "*   This block defines a function called `main`.\n",
        "*   Functions are blocks of reusable code that perform a specific task.\n",
        "\n",
        "**Inside the `main` function:**\n",
        "\n",
        "1. **Get Input:**\n",
        "\n",
        "*   This line prompts the user to enter the number of feet using the `input()` function.\n",
        "*   The input is then converted to a floating-point number using `float()` and stored in the `feet` variable.\n",
        "\n",
        "2. Calculate Inches:\n",
        "\n",
        "*   This line calculates the equivalent inches by multiplying the value of `feet` by `inches_in_foot` (which is 12)\n",
        "*   The result is stored in the `inches` variable.\n",
        "\n",
        "3. Print the Result:\n",
        "\n",
        "*   This line displays the original feet value and the calculated inches value to the user.\n",
        "*   It uses an f-string (formatted string literal) to embed the values of `feet` and `inches` directly within the output string.\n",
        "\n",
        "**Program Execution:**\n",
        "\n",
        "*   This block is crucial for running the program.\n",
        "\n",
        "*   `if __name__ == '__main__':` is a conditional statement that checks if the script is being run as the main program.\n",
        "*   If this condition is true (which it will be when you run the script directly), it calls the `main()` function, executing the code within it. This starts the feet-to-inches conversion process.\n"
      ],
      "metadata": {
        "id": "NI55ydr3zqwO"
      }
    }
  ]
}