{
  "nbformat": 4,
  "nbformat_minor": 0,
  "metadata": {
    "colab": {
      "provenance": [],
      "authorship_tag": "ABX9TyM7cIx3jcyNg/e2JZKeiWfV",
      "include_colab_link": true
    },
    "kernelspec": {
      "name": "python3",
      "display_name": "Python 3"
    },
    "language_info": {
      "name": "python"
    }
  },
  "cells": [
    {
      "cell_type": "markdown",
      "metadata": {
        "id": "view-in-github",
        "colab_type": "text"
      },
      "source": [
        "<a href=\"https://colab.research.google.com/github/Muddasir8/Projects/blob/main/03_if_statements/02_international_voting_age.ipynb\" target=\"_parent\"><img src=\"https://colab.research.google.com/assets/colab-badge.svg\" alt=\"Open In Colab\"/></a>"
      ]
    },
    {
      "cell_type": "code",
      "execution_count": null,
      "metadata": {
        "id": "ccpJ7txXMbX6"
      },
      "outputs": [],
      "source": [
        "voters_age = {\n",
        "    \"PETURKSBOUIPO\" : 16,\n",
        "    \"STANLAU\" : 25,\n",
        "    \"MAYENGUA\" : 48\n",
        "}\n",
        "\n",
        "def main():\n",
        "\n",
        "    user_age = int(input(\"Please enter your age: \"))\n",
        "\n",
        "    for country, age in voters_age.items():\n",
        "\n",
        "      if user_age >= age:\n",
        "          print(f\"You can vote in {country} where the voting age is {age}.\")\n",
        "      else:\n",
        "          print(f\"You cannot vote in {country} where the voting age is {age}.\")\n",
        "\n",
        "\n",
        "# This provided line is required at the end of\n",
        "# Python file to call the main() function.\n",
        "if __name__ == '__main__':\n",
        "    main()"
      ]
    },
    {
      "cell_type": "markdown",
      "source": [
        "# Data Structure: Dictionary\n",
        "\n",
        "      voters_age = {\n",
        "          \"PETURKSBOUIPO\" : 16,\n",
        "          \"STANLAU\" : 25,\n",
        "          \"MAYENGUA\" : 48\n",
        "      }\n",
        "\n",
        "* This code creates a dictionary called `voters_age`.\n",
        "* A dictionary in Python is like a real-world dictionary, where you have keys (words) and values (definitions).\n",
        "* Here, the keys are the names of countries (e.g., \"PETURKSBOUIPO\"), and the values are the voting ages in those countries (e.g., 16).\n",
        "\n",
        "**Function Definition: `main`**\n",
        "\n",
        "      def main():\n",
        "    \n",
        "          user_age = int(input(\"Please enter your age: \"))\n",
        "\n",
        "          for country, age in voters_age.items():\n",
        "\n",
        "            if user_age >= age:\n",
        "                print(f\"You can vote in {country} where the voting age is {age}.\")\n",
        "            else:\n",
        "                print(f\"You cannot vote in {country} where the voting age is {age}.\")\n",
        "\n",
        "* This part defines a function called `main`.\n",
        "* Functions are blocks of reusable code. They make your code organized and avoid repetition.\n",
        "* The `main` function is where the core logic of the program lives.\n",
        "**Inside the `main` function:**\n",
        "\n",
        "1. **Get User Input:**\n",
        "\n",
        "       user_age = int(input(\"Please enter your age: \"))\n",
        "\n",
        "\n",
        "* `input(\"Please enter your age: \")` displays a message asking the user to enter their age and waits for their input.\n",
        "* `int(...)` converts the user's input (which is initially a string) into an integer and stores it in the variable `user_age`.\n",
        "\n",
        "2. **Loop Through Countries:**\n",
        "\n",
        "       for country, age in voters_age.items():\n",
        "\n",
        "* This line starts a loop that goes through each key-value pair (country and voting age) in the `voters_age` dictionary.\n",
        "* `voters_age.items()` provides an iterable view of these key-value pairs.\n",
        "* Inside the loop, `country` represents the country name, and `age` represents the voting age for that country.\n",
        "\n",
        "3. **Check Voting Eligibility:**\n",
        "\n",
        "       if user_age >= age:\n",
        "              print(f\"You can vote in {country} where the voting age is {age}.\")\n",
        "      else:\n",
        "              print(f\"You cannot vote in {country} where the voting age is {age}.\")\n",
        "\n",
        "* This part compares the `user_age` with the `age` for the current country in the loop.\n",
        "* `if user_age >= age:`: If the user is old enough to vote in that country, it prints a message saying they can vote.\n",
        "* `else:`: If the user is not old enough, it prints a message saying they cannot vote.\n",
        "\n",
        "**Running the Code**\n",
        "\n",
        "        if __name__ == '__main__':\n",
        "            main()\n",
        "\n",
        "* This final part is how you execute the code.\n",
        "* `if __name__ == '__main__':` is a common pattern in Python. It ensures that the `main` function is called only when the script is run directly (not when it's imported as a module into another script).\n",
        "* `main()` This line calls the `main` function, starting the process of getting user input and checking voting eligibility."
      ],
      "metadata": {
        "id": "FwZE6yWFRqqJ"
      }
    }
  ]
}