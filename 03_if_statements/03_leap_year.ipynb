{
  "nbformat": 4,
  "nbformat_minor": 0,
  "metadata": {
    "colab": {
      "provenance": [],
      "authorship_tag": "ABX9TyN9Lsc6PD13u672hPNP5G13",
      "include_colab_link": true
    },
    "kernelspec": {
      "name": "python3",
      "display_name": "Python 3"
    },
    "language_info": {
      "name": "python"
    }
  },
  "cells": [
    {
      "cell_type": "markdown",
      "metadata": {
        "id": "view-in-github",
        "colab_type": "text"
      },
      "source": [
        "<a href=\"https://colab.research.google.com/github/Muddasir8/Projects/blob/main/03_if_statements/03_leap_year.ipynb\" target=\"_parent\"><img src=\"https://colab.research.google.com/assets/colab-badge.svg\" alt=\"Open In Colab\"/></a>"
      ]
    },
    {
      "cell_type": "code",
      "execution_count": null,
      "metadata": {
        "id": "9Alg-s2rWfwG"
      },
      "outputs": [],
      "source": [
        "def leap_year(year: int)-> bool:\n",
        "  if year % 4 == 0:\n",
        "    if year % 100 == 0:\n",
        "      if year % 400 == 0:\n",
        "        return True\n",
        "      else:\n",
        "        return False\n",
        "    else:\n",
        "      return True\n",
        "\n",
        "def main():\n",
        "    year: int= int(input(\"Enter a year: \"))\n",
        "\n",
        "    if leap_year(year):\n",
        "      print(f\"{year} is a leap year\")\n",
        "    else:\n",
        "      print(f\"{year} is not a leap year\")\n",
        "\n",
        "\n",
        "# This provided line is required at the end of\n",
        "# Python file to call the main() function.\n",
        "if __name__ == '__main__':\n",
        "    main()"
      ]
    },
    {
      "cell_type": "markdown",
      "source": [
        "# Leap Year Logic\n",
        "\n",
        "This code defines two functions: `leap_year` and `main`. The `leap_year` function is designed to determine if a given year is a leap year or not.\n",
        "\n",
        "# **`leap_year` Function:**\n",
        "\n",
        "       def leap_year(year: int)-> bool:\n",
        "        if year % 4 == 0:\n",
        "          if year % 100 == 0:\n",
        "            if year % 400 == 0:\n",
        "              return True\n",
        "            else:\n",
        "              return False\n",
        "          else:\n",
        "            return True\n",
        "\n",
        "1. **Function Definition:**\n",
        "\n",
        " * `def leap_year(year: int)-> bool:`: This line\n",
        "defines a function named `leap_year`.\n",
        " * It takes one input argument: `year` which is expected to be an integer (`int`).\n",
        " * The `-> bool` indicates that the function will return a boolean value (`True` or `False`).\n",
        "\n",
        "2. **Leap Year Rules:**\n",
        "\n",
        " * The code inside the function implements the rules for determining a leap year:\n",
        "    * **Divisible by 4**: `if year % 4 == 0:` - If the `year` is perfectly divisible by 4, it enters the next level of checks. The modulo operator `(%)` gives the remainder of a division.\n",
        "    * **Divisible by 100**: `if year % 100 == 0:` - If the `year` is also divisible by 100, it proceeds to the final check.\n",
        "    * **Divisible by 400**: `if year % 400 == 0:` - If the `year` is also divisible by 400, it's a leap year and the function returns `True`. Otherwise, it returns `False`.\n",
        "    * **Not Divisible by 100**: If the `year` was divisible by 4 but not by 100, it's a leap year and the function returns `True`.\n",
        "\n",
        "# Main Program Flow\n",
        "\n",
        "The `main` function handles the user interaction and displays the result.\n",
        "\n",
        "**`main` Function:**\n",
        "\n",
        "       def main():\n",
        "           year: int= int(input(\"Enter a year: \"))\n",
        "\n",
        "          if leap_year(year):\n",
        "            print(f\"{year} is a leap year\")\n",
        "          else:\n",
        "            print(f\"{year} is not a leap year\")\n",
        "\n",
        "1. **Get Input:**\n",
        "\n",
        "    * `year: int= int(input(\"Enter a year: \")):` This line prompts the user to enter a year and stores the input as an integer in the `year` variable.\n",
        "\n",
        "2. **Call `leap_year`:**\n",
        "\n",
        "   * `if leap_year(year):`: It calls the `leap_year` function with the entered `year` to check if it's a leap year.\n",
        "\n",
        "3. **Display Result:**\n",
        "\n",
        "   * Based on the result from `leap_year`, it prints whether the entered year is a leap year or not.\n",
        "\n",
        "# Program Execution:\n",
        "\n",
        "       if __name__ == '__main__':\n",
        "          main()\n",
        "\n",
        "* This block ensures that the `main` function is called only when the script is executed directly (not imported as a module). It's a standard practice in Python. This line initiates the execution of the program, starting with the `main` function."
      ],
      "metadata": {
        "id": "rQ1MdF80ZH-U"
      }
    }
  ]
}