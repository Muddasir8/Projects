{
  "nbformat": 4,
  "nbformat_minor": 0,
  "metadata": {
    "colab": {
      "provenance": [],
      "authorship_tag": "ABX9TyMzlCnp9ZjXk50K+bL321T0",
      "include_colab_link": true
    },
    "kernelspec": {
      "name": "python3",
      "display_name": "Python 3"
    },
    "language_info": {
      "name": "python"
    }
  },
  "cells": [
    {
      "cell_type": "markdown",
      "metadata": {
        "id": "view-in-github",
        "colab_type": "text"
      },
      "source": [
        "<a href=\"https://colab.research.google.com/github/Muddasir8/Projects/blob/main/03_if_statements/05_random_numbers.ipynb\" target=\"_parent\"><img src=\"https://colab.research.google.com/assets/colab-badge.svg\" alt=\"Open In Colab\"/></a>"
      ]
    },
    {
      "cell_type": "code",
      "execution_count": 5,
      "metadata": {
        "colab": {
          "base_uri": "https://localhost:8080/"
        },
        "id": "mpAuhmZsGEgV",
        "outputId": "a90e896c-1d87-4709-fa26-797ce3155782"
      },
      "outputs": [
        {
          "output_type": "stream",
          "name": "stdout",
          "text": [
            "[100, 92, 62, 70, 8, 33, 26, 86, 81, 39]\n"
          ]
        }
      ],
      "source": [
        "import random\n",
        "\n",
        "N_NUMBERS : int = 10\n",
        "MIN_VALUE : int = 1\n",
        "MAX_VALUE : int = 100\n",
        "\n",
        "def main():\n",
        "    random_number = [random.randint(MIN_VALUE, MAX_VALUE) for _ in range(N_NUMBERS)]\n",
        "    print(random_number)\n",
        "\n",
        "\n",
        "if __name__ == '__main__':\n",
        "    main()"
      ]
    },
    {
      "cell_type": "markdown",
      "source": [
        "# Importing the `random` Module\n",
        "\n",
        "      import random\n",
        "\n",
        "* This line imports the `random` module, which is a built-in Python library.\n",
        "* This module provides functions for generating random numbers. We need it for our task of creating a list of random numbers.\n",
        "\n",
        "# Defining Constants\n",
        "\n",
        "      N_NUMBERS : int = 10\n",
        "      MIN_VALUE : int = 1\n",
        "      MAX_VALUE : int = 100\n",
        "\n",
        "* These lines define three constants:\n",
        " * `N_NUMBERS`: This constant stores the number of random numbers we want to generate, which is set to 10.\n",
        " * `MIN_VALUE`: This constant represents the minimum value for our random numbers (inclusive), set to 1.\n",
        " * `MAX_VALUE`: This constant represents the maximum value for our random numbers (inclusive), set to 100.\n",
        "* Using constants like this makes the code more readable and easier to modify if you need to change these values later.\n",
        "\n",
        "The `main` Function\n",
        "\n",
        "      def main():\n",
        "          random_number = [random.randint(MIN_VALUE, MAX_VALUE) for _ in range(N_NUMBERS)]\n",
        "          print(random_number)\n",
        "\n",
        "* This code block defines a function called `main`. This function is where the core logic of our program resides.\n",
        "\n",
        "* Inside the `main` function:\n",
        "\n",
        "  * `random_number = [random.randint(MIN_VALUE, MAX_VALUE) for _ in range(N_NUMBERS)]`: This line does the heavy lifting. Let's break it down:\n",
        "\n",
        "    * `random.randint(MIN_VALUE, MAX_VALUE)`: This part calls the `randint` function from the `random` module to generate a single random integer between `MIN_VALUE` (1) and `MAX_VALUE` (100), inclusive.\n",
        "    * `for _ in range(N_NUMBERS)`: This is a loop that iterates `N_NUMBERS` (10) times. The underscore _ is used as a placeholder variable since we don't need to use the loop index itself.\n",
        "    * `[...]`: These square brackets create a list. The loop generates a random number in each iteration, and those numbers are collected within this list.\n",
        "    * So, this line creates a list called `random_number` containing 10 random integers.\n",
        "  * print(random_number): This line simply prints the generated random_number list to the console.\n",
        "\n",
        "# Running the Code\n",
        "\n",
        "        if __name__ == '__main__':\n",
        "            main()\n",
        "\n",
        "* This block is a common pattern in Python scripts.\n",
        "* `if __name__ == '__main__':`: This line checks if the script is being run as the main program (as opposed to being imported as a module into another script).\n",
        "* If it is the main program, then `main()` is called, which executes the code within the `main` function, generating and printing the list of random numbers."
      ],
      "metadata": {
        "id": "xUluOXMNH9Zd"
      }
    }
  ]
}