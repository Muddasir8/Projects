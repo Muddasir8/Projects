{
  "nbformat": 4,
  "nbformat_minor": 0,
  "metadata": {
    "colab": {
      "provenance": [],
      "authorship_tag": "ABX9TyPIUBV0MSElNiTCP8WSATOv",
      "include_colab_link": true
    },
    "kernelspec": {
      "name": "python3",
      "display_name": "Python 3"
    },
    "language_info": {
      "name": "python"
    }
  },
  "cells": [
    {
      "cell_type": "markdown",
      "metadata": {
        "id": "view-in-github",
        "colab_type": "text"
      },
      "source": [
        "<a href=\"https://colab.research.google.com/github/Muddasir8/Projects/blob/main/03_if_statements/04_tall_enough_to_ride.ipynb\" target=\"_parent\"><img src=\"https://colab.research.google.com/assets/colab-badge.svg\" alt=\"Open In Colab\"/></a>"
      ]
    },
    {
      "cell_type": "code",
      "execution_count": null,
      "metadata": {
        "id": "6NbZ8a17dh2-"
      },
      "outputs": [],
      "source": [
        "MINIMUM_HEIGHT : int = 50\n",
        "\n",
        "def main():\n",
        "  height = float(input(\"How tall are You!\"))\n",
        "  if height >= MINIMUM_HEIGHT:\n",
        "    print(\"You can ride!\")\n",
        "  else:\n",
        "    print(\"You can't ride!\")\n",
        "\n",
        "\n",
        "\n",
        "# This provided line is required at the end of\n",
        "# Python file to call the main() function.\n",
        "if __name__ == '__main__':\n",
        "    main()"
      ]
    },
    {
      "cell_type": "markdown",
      "source": [
        "# Code Explanation\n",
        "\n",
        "This Python code appears to be designed to determine if a user is tall enough to ride a certain attraction, likely a ride at an amusement park. Let's break it down step-by-step:\n",
        "\n",
        "       MINIMUM_HEIGHT : int = 50\n",
        "\n",
        "* This line defines a variable named `MINIMUM_HEIGHT` and sets it to 50.\n",
        "* The `: int` part specifies that this variable is intended to hold an integer value. This is called type hinting and helps with code readability and debugging.\n",
        "* This variable likely represents the minimum height requirement for the ride in centimeters or a similar unit.\n",
        "\n",
        "       def main():\n",
        "          height = float(input(\"How tall are You!\"))\n",
        "          if height >= MINIMUM_HEIGHT:\n",
        "            print(\"You can ride!\")\n",
        "          else:\n",
        "            print(\"You can't ride!\")\n",
        "\n",
        "* This block defines a function called `main`. Functions are blocks of reusable code that perform specific tasks.\n",
        "* Inside the `main` function:\n",
        "   * `height = float(input(\"How tall are You!\"))`: This line gets input from the user, asking for their height. The `input()` function reads the user's response as a string. The `float()` function then converts this string to a floating-point number (a number with a decimal point), allowing for more precise height values. The result is stored in the `height` variable.\n",
        "  * `if height >= MINIMUM_HEIGHT:`: This line starts an `if` statement, which is a conditional control flow statement. It checks if the user's `height` is greater than or equal to the `MINIMUM_HEIGHT`.\n",
        "  * `print(\"You can ride!\")`: If the condition in the `if` statement is true (the user is tall enough), this line prints \"You can ride!\" to the console.\n",
        "  * `else:`: If the condition in the `if` statement is false (the user is not tall enough), the code execution moves to the `else` block.\n",
        "  * `print(\"You can't ride!\")`: This line, within the else block, prints \"You can't ride!\" to the console.\n",
        "\n",
        "       if __name__ == '__main__':\n",
        "          main()\n",
        "\n",
        "* This is a common pattern in Python scripts.\n",
        "* The `if __name__ == '__main__':` block ensures that the `main` function is called only when the script is executed directly (not imported as a module into another script).\n",
        "* `main()`: This line calls the `main` function, starting the execution of the height check logic."
      ],
      "metadata": {
        "id": "yE3-OcRYEKUM"
      }
    }
  ]
}