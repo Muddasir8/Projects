{
  "nbformat": 4,
  "nbformat_minor": 0,
  "metadata": {
    "colab": {
      "provenance": [],
      "authorship_tag": "ABX9TyMJx/pZ7+N43KF2fmrE+0U7",
      "include_colab_link": true
    },
    "kernelspec": {
      "name": "python3",
      "display_name": "Python 3"
    },
    "language_info": {
      "name": "python"
    }
  },
  "cells": [
    {
      "cell_type": "markdown",
      "metadata": {
        "id": "view-in-github",
        "colab_type": "text"
      },
      "source": [
        "<a href=\"https://colab.research.google.com/github/Muddasir8/Projects/blob/main/03_if_statements/01_print_events.ipynb\" target=\"_parent\"><img src=\"https://colab.research.google.com/assets/colab-badge.svg\" alt=\"Open In Colab\"/></a>"
      ]
    },
    {
      "cell_type": "code",
      "execution_count": null,
      "metadata": {
        "id": "RhCFhAeTJjdy"
      },
      "outputs": [],
      "source": [
        "def main():\n",
        "    for i in range(20):\n",
        "      print(i * 2)\n",
        "\n",
        "\n",
        "# This provided line is required at the end of\n",
        "# Python file to call the main() function.\n",
        "if __name__ == '__main__':\n",
        "    main()"
      ]
    },
    {
      "cell_type": "markdown",
      "source": [
        "# Code Explanation\n",
        "\n",
        "This code defines a function called `main` and then executes it. Let's break it down step-by-step:\n",
        "\n",
        "# Function Definition: `def main():`\n",
        "\n",
        "       def main():\n",
        "           for i in range(20):\n",
        "           print(i * 2)\n",
        "\n",
        "* `def main():`: This line defines a function named `main`. In Python, functions are blocks of reusable code that perform specific tasks. The `def` keyword is used to define a function, followed by the function name (`main` in this case) and parentheses `()`. The colon `:` indicates the start of the function's code block.\n",
        "* `for i in range(20):`: This line initiates a `for` loop.\n",
        "  * `for` loops are used to iterate over a sequence of values.\n",
        "  * `range(20)` creates a sequence of numbers from 0 to 19.\n",
        "  * In each iteration of the loop, the variable i will take on the next value in the sequence.\n",
        "* print(i * 2): Inside the loop, this line prints the current value of `i` multiplied by 2. The `print()` function is used to display output to the console.\n",
        "\n",
        "# Function Execution: `if __name__ == '__main__':`\n",
        "\n",
        "       if __name__ == '__main__':\n",
        "           main()\n",
        "\n",
        "* `if __name__ == '__main__':`: This line is a conditional statement that checks if the code is being run as the main program.\n",
        "  * The special variable `__name__` is set to '`__main__`' when a Python file is executed directly.\n",
        "  * If this condition is true, it means the code is being run as the main program, not imported as a module into another program.\n",
        "* `main()`: If the condition is true (the code is the main program), this line calls the `main` function that was defined earlier. This is how the code within the `main` function is executed."
      ],
      "metadata": {
        "id": "PvIOT3GGKq8a"
      }
    }
  ]
}