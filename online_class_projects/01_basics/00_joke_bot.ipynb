{
  "nbformat": 4,
  "nbformat_minor": 0,
  "metadata": {
    "colab": {
      "provenance": [],
      "authorship_tag": "ABX9TyON+pz/dmIw41/4SAyE8svY",
      "include_colab_link": true
    },
    "kernelspec": {
      "name": "python3",
      "display_name": "Python 3"
    },
    "language_info": {
      "name": "python"
    }
  },
  "cells": [
    {
      "cell_type": "markdown",
      "metadata": {
        "id": "view-in-github",
        "colab_type": "text"
      },
      "source": [
        "<a href=\"https://colab.research.google.com/github/Muddasir8/Projects/blob/main/online_class_projects/01_basics/00_joke_bot.ipynb\" target=\"_parent\"><img src=\"https://colab.research.google.com/assets/colab-badge.svg\" alt=\"Open In Colab\"/></a>"
      ]
    },
    {
      "cell_type": "code",
      "execution_count": null,
      "metadata": {
        "id": "2hszWanFr7NW"
      },
      "outputs": [],
      "source": [
        "PROMPT: str = \"What do you want? \"\n",
        "JOKE: str = \"Here is a joke for you! Sophia is heading out to the grocery store. A programmer tells her: get a liter of milk, and if they have eggs, get 12. Sophia returns with 13 liters of milk. The programmer asks why and Sophia replies: 'because they had eggs'\"\n",
        "SORRY: str = \"Sorry I only tell jokes.\"\n",
        "\n",
        "\n",
        "def main():\n",
        "\n",
        "    user_input = input(PROMPT)\n",
        "    user_input = user_input.strip().lower()\n",
        "\n",
        "    if \"joke\" in user_input:\n",
        "      print(JOKE)\n",
        "    else:\n",
        "      print(SORRY)\n",
        "\n",
        "\n",
        "# This provided line is required at the end of\n",
        "# Python file to call the main() function.\n",
        "if __name__ == '__main__':\n",
        "    main()"
      ]
    },
    {
      "cell_type": "markdown",
      "source": [
        "1. The code defines three variables: `PROMPT` to ask the user what they want, `JOKE` to store a joke, and `SORRY` for a response if the user doesn't ask for a joke.\n",
        "\n",
        "2. The `main` function gets user input, cleans it up (removes spaces, makes it lowercase), and checks if the input contains the word \"joke\". If it does, it prints the joke; otherwise, it prints the sorry message.\n",
        "\n",
        "3. Finally, the `if __name__ == '__main__':` block ensures that the `main` function is executed when the script is run.\n",
        "\n",
        "4. In essence, the code is a simple program that tells a joke if the user asks for one. If they ask for something else, it apologizes and says it only tells jokes."
      ],
      "metadata": {
        "id": "SrgP1oRvt6sF"
      }
    }
  ]
}