{
  "nbformat": 4,
  "nbformat_minor": 0,
  "metadata": {
    "colab": {
      "provenance": [],
      "authorship_tag": "ABX9TyOMc0Z8nYbDbfIf1oxE/tzP",
      "include_colab_link": true
    },
    "kernelspec": {
      "name": "python3",
      "display_name": "Python 3"
    },
    "language_info": {
      "name": "python"
    }
  },
  "cells": [
    {
      "cell_type": "markdown",
      "metadata": {
        "id": "view-in-github",
        "colab_type": "text"
      },
      "source": [
        "<a href=\"https://colab.research.google.com/github/Muddasir8/Projects/blob/main/online_class_projects/01_basics/04_random_numbers.ipynb\" target=\"_parent\"><img src=\"https://colab.research.google.com/assets/colab-badge.svg\" alt=\"Open In Colab\"/></a>"
      ]
    },
    {
      "cell_type": "code",
      "execution_count": null,
      "metadata": {
        "id": "Ns8pWfN054PV"
      },
      "outputs": [],
      "source": [
        "import random\n",
        "\n",
        "N_NUMBERS: int = 10\n",
        "MIN_VALUE: int = 1\n",
        "MAX_VALUE: int = 100\n",
        "\n",
        "def main():\n",
        "    random_num = [random.randint(MIN_VALUE, MAX_VALUE) for _ in range(N_NUMBERS)]\n",
        "    print(f'Random numbers: {random_num}')\n",
        "\n",
        "if __name__ == '__main__':\n",
        "    main()\n"
      ]
    },
    {
      "cell_type": "markdown",
      "source": [
        "# Importing the `random` Module\n",
        "\n",
        "        import random\n",
        "\n",
        "This line imports the `random` module, which provides functions for generating random numbers.\n",
        "\n",
        "# Defining Variables\n",
        "\n",
        "      N_NUMBERS: int = 10\n",
        "      MIN_VALUE: int = 1\n",
        "      MAX_VALUE: int = 100\n",
        "\n",
        "* `N_NUMBERS`: Stores the desired number of random numbers to generate (set to 10).\n",
        "* `MIN_VALUE`: Sets the minimum value for the random numbers (set to 1).\n",
        "* `MAX_VALUE`: Sets the maximum value for the random numbers (set to 100).\n",
        "\n",
        "# The `main` Function\n",
        "\n",
        "      def main():\n",
        "          random_num = [random.randint(MIN_VALUE, MAX_VALUE) for _ in range(N_NUMBERS)]\n",
        "          print(f'Random numbers: {random_num}')\n",
        "\n",
        "* This function generates a list of random numbers and prints them.\n",
        "* `random.randint(MIN_VALUE, MAX_VALUE)`: Generates a single random integer between `MIN_VALUE` and `MAX_VALUE`.\n",
        "* `[... for _ in range(N_NUMBERS)]`: This is a list comprehension that repeats the random number generation `N_NUMBERS` times, creating a list.\n",
        "* `print(...)`: Displays the generated random numbers.\n",
        "\n",
        "# Running the Code\n",
        "\n",
        "      if __name__ == '__main__':\n",
        "          main()\n",
        "\n",
        "* This part ensures that the `main` function is called only when the script is run directly (not imported as a module). It's a common practice in Python."
      ],
      "metadata": {
        "id": "O8qEw8ox7ac3"
      }
    }
  ]
}