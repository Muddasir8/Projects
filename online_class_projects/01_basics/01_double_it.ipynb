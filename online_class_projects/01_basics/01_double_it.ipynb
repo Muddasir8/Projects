{
  "nbformat": 4,
  "nbformat_minor": 0,
  "metadata": {
    "colab": {
      "provenance": [],
      "authorship_tag": "ABX9TyMVa0kCyNHjFE1z2jiw7+Bu",
      "include_colab_link": true
    },
    "kernelspec": {
      "name": "python3",
      "display_name": "Python 3"
    },
    "language_info": {
      "name": "python"
    }
  },
  "cells": [
    {
      "cell_type": "markdown",
      "metadata": {
        "id": "view-in-github",
        "colab_type": "text"
      },
      "source": [
        "<a href=\"https://colab.research.google.com/github/Muddasir8/Projects/blob/main/online_class_projects/01_basics/01_double_it.ipynb\" target=\"_parent\"><img src=\"https://colab.research.google.com/assets/colab-badge.svg\" alt=\"Open In Colab\"/></a>"
      ]
    },
    {
      "cell_type": "code",
      "execution_count": null,
      "metadata": {
        "id": "uUlQPEt2u4ta"
      },
      "outputs": [],
      "source": [
        "def main():\n",
        "    value = int(input(\"Enter a number: \"))\n",
        "\n",
        "    while value < 100:\n",
        "      value *= 2\n",
        "      print(value)\n",
        "\n",
        "\n",
        "# This provided line is required at the end of\n",
        "# Python file to call the main() function.\n",
        "if __name__ == '__main__':\n",
        "    main()"
      ]
    },
    {
      "cell_type": "markdown",
      "source": [
        "# Code Functionality\n",
        "\n",
        "This Python code asks the user for a number, then repeatedly doubles it and prints the result as long as the number is less than 100.\n",
        "\n",
        "**Code Breakdown**\n",
        "\n",
        "1. `def main():`: This line defines a function called `main`. Functions are blocks of reusable code.\n",
        "2. `value = int(input(\"Enter a number: \"))`: This line prompts the user to enter a number, converts it to an integer using `int()`, and stores it in the `value` variable.\n",
        "3. `while value < 100:`: This line starts a `while` loop. The code inside the loop will execute repeatedly as long as the value of `value` is less than 100.\n",
        "4. `value *= 2`: This line doubles the value of `value` and updates the `value` variable. (It's a shorthand for `value = value * 2`).\n",
        "5. `print(value)`: This line prints the current value of `value` to the console.\n",
        "6. `if __name__ == '__main__':`: This line is a common Python idiom. It ensures that the `main` function is only called when the script is executed directly (not when imported as a module).\n",
        "7. `main()`: This line calls the `main` function, starting the execution of the program."
      ],
      "metadata": {
        "id": "Yiuu5Es_vw93"
      }
    }
  ]
}