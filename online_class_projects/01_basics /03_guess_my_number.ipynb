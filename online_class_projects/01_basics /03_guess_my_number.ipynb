{
  "nbformat": 4,
  "nbformat_minor": 0,
  "metadata": {
    "colab": {
      "provenance": [],
      "authorship_tag": "ABX9TyPR/w6/ypifl5h5SBzsYDYg",
      "include_colab_link": true
    },
    "kernelspec": {
      "name": "python3",
      "display_name": "Python 3"
    },
    "language_info": {
      "name": "python"
    }
  },
  "cells": [
    {
      "cell_type": "markdown",
      "metadata": {
        "id": "view-in-github",
        "colab_type": "text"
      },
      "source": [
        "<a href=\"https://colab.research.google.com/github/Muddasir8/Projects/blob/main/online_class_projects/01_basics%20/03_guess_my_number.ipynb\" target=\"_parent\"><img src=\"https://colab.research.google.com/assets/colab-badge.svg\" alt=\"Open In Colab\"/></a>"
      ]
    },
    {
      "cell_type": "code",
      "execution_count": null,
      "metadata": {
        "id": "QGEJBOEwy-1G"
      },
      "outputs": [],
      "source": [
        "import random\n",
        "\n",
        "def main():\n",
        "  secret_num = random.randint(1, 99)\n",
        "\n",
        "  print(\"I am thinking of a number between 1 and 99.\")\n",
        "\n",
        "  guess = int(input(\"Take a guess: \"))\n",
        "\n",
        "  while guess != secret_num:\n",
        "    if guess < secret_num:\n",
        "      print(\"Your guess is too low.\")\n",
        "    else:\n",
        "      print(\"Your guess is too high.\")\n",
        "    guess = int(input(\"Take a guess: \"))\n",
        "\n",
        "  print(\"Congrats! The number was: \" + str(secret_num))\n",
        "\n",
        "\n",
        "\n",
        "\n",
        "# This provided line is required at the end of\n",
        "# Python file to call the main() function.\n",
        "if __name__ == '__main__':\n",
        "    main()"
      ]
    },
    {
      "cell_type": "markdown",
      "source": [
        "This code implements a number guessing game.\n",
        "\n",
        "1. **It imports the `random` module:** This is needed to generate a random secret number.\n",
        "2. **It defines a `main` function:** This function contains the core logic of the game.\n",
        "3. **Inside `main`:**\n",
        "  * A random secret number between 1 and 99 is generated using `random.randint(1, 99)` and stored in the `secret_num` variable.\n",
        "  * The program prompts the user to guess the number.\n",
        "  * It uses a `while` loop to keep asking for guesses until the user guesses correctly.\n",
        "  * Inside the loop, it provides feedback (too high or too low) to guide the user.\n",
        "  * Once the user guesses correctly, it congratulates them and reveals the secret number.\n",
        "4. The `if __name__ == '__main__':` block: This ensures that the `main` function is called only when the script is executed directly (not imported as a module). This is a common practice in Python."
      ],
      "metadata": {
        "id": "HyRiKCYszY28"
      }
    }
  ]
}